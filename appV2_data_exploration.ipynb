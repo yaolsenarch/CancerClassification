{
 "cells": [
  {
   "cell_type": "code",
   "execution_count": 5,
   "metadata": {},
   "outputs": [
    {
     "data": {
      "application/javascript": [
       "\n",
       "        if (window._pyforest_update_imports_cell) { window._pyforest_update_imports_cell('import pandas as pd'); }\n",
       "    "
      ],
      "text/plain": [
       "<IPython.core.display.Javascript object>"
      ]
     },
     "metadata": {},
     "output_type": "display_data"
    },
    {
     "name": "stdout",
     "output_type": "stream",
     "text": [
      "<class 'pandas.core.frame.DataFrame'>\n",
      "RangeIndex: 1848 entries, 0 to 1847\n",
      "Data columns (total 3 columns):\n",
      " #   Column          Non-Null Count  Dtype \n",
      "---  ------          --------------  ----- \n",
      " 0   specNum         1848 non-null   object\n",
      " 1   final           1848 non-null   object\n",
      " 2   interpretation  1848 non-null   object\n",
      "dtypes: object(3)\n",
      "memory usage: 43.4+ KB\n"
     ]
    },
    {
     "name": "stderr",
     "output_type": "stream",
     "text": [
      "<ipython-input-5-dbecb3929ac4>:5: FutureWarning: The default value of regex will change from True to False in a future version.\n",
      "  df1['final'] = df1['final'].str.replace(r'\\d+ *[a-z]{2}', ' ')\n",
      "<ipython-input-5-6524d8c3205d>:5: FutureWarning: The default value of regex will change from True to False in a future version.\n",
      "  df1['final'] = df1['final'].str.replace(r'[^\\w\\s]', ' ')\n",
      "<ipython-input-5-49ab51a4aa02>:4: FutureWarning: The default value of regex will change from True to False in a future version.\n",
      "  df1['final'] = df1['final'].str.replace(r'\\d+', ' ')\n",
      "<ipython-input-5-9cbf236ce26c>:3: FutureWarning: The default value of regex will change from True to False in a future version.\n",
      "  df1['final'] = df1['final'].str.replace(r'\\s+', ' ')\n"
     ]
    },
    {
     "data": {
      "application/javascript": [
       "\n",
       "        if (window._pyforest_update_imports_cell) { window._pyforest_update_imports_cell('import pandas as pd\\nimport matplotlib.pyplot as plt'); }\n",
       "    "
      ],
      "text/plain": [
       "<IPython.core.display.Javascript object>"
      ]
     },
     "metadata": {},
     "output_type": "display_data"
    },
    {
     "data": {
      "application/javascript": [
       "\n",
       "        if (window._pyforest_update_imports_cell) { window._pyforest_update_imports_cell('import pandas as pd\\nimport matplotlib.pyplot as plt'); }\n",
       "    "
      ],
      "text/plain": [
       "<IPython.core.display.Javascript object>"
      ]
     },
     "metadata": {},
     "output_type": "display_data"
    },
    {
     "data": {
      "application/javascript": [
       "\n",
       "        if (window._pyforest_update_imports_cell) { window._pyforest_update_imports_cell('import pandas as pd\\nimport matplotlib.pyplot as plt'); }\n",
       "    "
      ],
      "text/plain": [
       "<IPython.core.display.Javascript object>"
      ]
     },
     "metadata": {},
     "output_type": "display_data"
    },
    {
     "data": {
      "image/png": "[encoded data removed]",
      "text/plain": [
       "<Figure size 360x360 with 1 Axes>"
      ]
     },
     "metadata": {},
     "output_type": "display_data"
    }
   ],
   "source": [
    "%run appV2_dataCleaning.ipynb"
   ]
  },
  {
   "cell_type": "code",
   "execution_count": 6,
   "metadata": {},
   "outputs": [
    {
     "data": {
      "text/html": [
       "<div>\n",
       "<style scoped>\n",
       "    .dataframe tbody tr th:only-of-type {\n",
       "        vertical-align: middle;\n",
       "    }\n",
       "\n",
       "    .dataframe tbody tr th {\n",
       "        vertical-align: top;\n",
       "    }\n",
       "\n",
       "    .dataframe thead th {\n",
       "        text-align: right;\n",
       "    }\n",
       "</style>\n",
       "<table border=\"1\" class=\"dataframe\">\n",
       "  <thead>\n",
       "    <tr style=\"text-align: right;\">\n",
       "      <th></th>\n",
       "      <th>specNum</th>\n",
       "      <th>final</th>\n",
       "      <th>interpretation</th>\n",
       "      <th>result</th>\n",
       "    </tr>\n",
       "  </thead>\n",
       "  <tbody>\n",
       "    <tr>\n",
       "      <th>0</th>\n",
       "      <td>S18-33164</td>\n",
       "      <td>esophagus random biopsy no diagnostic abnormal...</td>\n",
       "      <td>Negative</td>\n",
       "      <td>0</td>\n",
       "    </tr>\n",
       "    <tr>\n",
       "      <th>1</th>\n",
       "      <td>N18-1798</td>\n",
       "      <td>urine collection method not specified negative...</td>\n",
       "      <td>Positive</td>\n",
       "      <td>1</td>\n",
       "    </tr>\n",
       "    <tr>\n",
       "      <th>2</th>\n",
       "      <td>S18-32678</td>\n",
       "      <td>uterus cervix bilateral fallopian tubes hyster...</td>\n",
       "      <td>Negative</td>\n",
       "      <td>0</td>\n",
       "    </tr>\n",
       "    <tr>\n",
       "      <th>3</th>\n",
       "      <td>N18-1801</td>\n",
       "      <td>cerebrospinal fluid tube negative for malignancy</td>\n",
       "      <td>Negative</td>\n",
       "      <td>0</td>\n",
       "    </tr>\n",
       "    <tr>\n",
       "      <th>4</th>\n",
       "      <td>S18-33316</td>\n",
       "      <td>colon descending biopsy no diagnostic abnormal...</td>\n",
       "      <td>Negative</td>\n",
       "      <td>0</td>\n",
       "    </tr>\n",
       "    <tr>\n",
       "      <th>...</th>\n",
       "      <td>...</td>\n",
       "      <td>...</td>\n",
       "      <td>...</td>\n",
       "      <td>...</td>\n",
       "    </tr>\n",
       "    <tr>\n",
       "      <th>1182</th>\n",
       "      <td>S18-33401</td>\n",
       "      <td>colon polyp rectum polypectomy polypoid coloni...</td>\n",
       "      <td>Intermediate</td>\n",
       "      <td>2</td>\n",
       "    </tr>\n",
       "    <tr>\n",
       "      <th>1183</th>\n",
       "      <td>F18-1364</td>\n",
       "      <td>salivary gland parotid left ultrasound guided ...</td>\n",
       "      <td>Negative</td>\n",
       "      <td>0</td>\n",
       "    </tr>\n",
       "    <tr>\n",
       "      <th>1184</th>\n",
       "      <td>S18-33581</td>\n",
       "      <td>gallbladder cholecystectomy chronic cholecysti...</td>\n",
       "      <td>Negative</td>\n",
       "      <td>0</td>\n",
       "    </tr>\n",
       "    <tr>\n",
       "      <th>1185</th>\n",
       "      <td>S18-33163</td>\n",
       "      <td>stomach site not otherwise specified biopsy ch...</td>\n",
       "      <td>Intermediate</td>\n",
       "      <td>2</td>\n",
       "    </tr>\n",
       "    <tr>\n",
       "      <th>1186</th>\n",
       "      <td>N18-1797</td>\n",
       "      <td>urine collection method not specified negative...</td>\n",
       "      <td>Positive</td>\n",
       "      <td>1</td>\n",
       "    </tr>\n",
       "  </tbody>\n",
       "</table>\n",
       "<p>1187 rows × 4 columns</p>\n",
       "</div>"
      ],
      "text/plain": [
       "        specNum                                              final  \\\n",
       "0     S18-33164  esophagus random biopsy no diagnostic abnormal...   \n",
       "1      N18-1798  urine collection method not specified negative...   \n",
       "2     S18-32678  uterus cervix bilateral fallopian tubes hyster...   \n",
       "3      N18-1801   cerebrospinal fluid tube negative for malignancy   \n",
       "4     S18-33316  colon descending biopsy no diagnostic abnormal...   \n",
       "...         ...                                                ...   \n",
       "1182  S18-33401  colon polyp rectum polypectomy polypoid coloni...   \n",
       "1183   F18-1364  salivary gland parotid left ultrasound guided ...   \n",
       "1184  S18-33581  gallbladder cholecystectomy chronic cholecysti...   \n",
       "1185  S18-33163  stomach site not otherwise specified biopsy ch...   \n",
       "1186   N18-1797  urine collection method not specified negative...   \n",
       "\n",
       "     interpretation  result  \n",
       "0          Negative       0  \n",
       "1          Positive       1  \n",
       "2          Negative       0  \n",
       "3          Negative       0  \n",
       "4          Negative       0  \n",
       "...             ...     ...  \n",
       "1182   Intermediate       2  \n",
       "1183       Negative       0  \n",
       "1184       Negative       0  \n",
       "1185   Intermediate       2  \n",
       "1186       Positive       1  \n",
       "\n",
       "[1187 rows x 4 columns]"
      ]
     },
     "execution_count": 6,
     "metadata": {},
     "output_type": "execute_result"
    }
   ],
   "source": [
    "df"
   ]
  },
  {
   "cell_type": "code",
   "execution_count": 17,
   "metadata": {},
   "outputs": [],
   "source": [
    "#interesting tip:if chain format like tfidf= TfidfVectorizer(...).fit_transform() then \n",
    "#tfidf.get_feature_names doesnt work. However, if without chain like tfidf= TfidfVectorizer(...)\n",
    "#tfidf.fit_transform(), then tfidf.get_feature_names works.\n",
    "\n",
    "#conventional algor are often baised towards the majoirty class, not taking the data distribution into \n",
    "#consideration. One solution is to artificially balance the dataset for example oversampling each class. \n",
    "\n",
    "#classifier+learning algorithms can not directly process the text documents in their original form, \n",
    "#as most of them expect numerical feature vector with a fixed size rather than the raw text documents with\n",
    "#variable length. One common approach for extracting features from text is to use the bag of words model:\n",
    "#where for each document the presence(and often the freq) of words is taken into consideration. \n",
    "#Specifically, for each term in our dataset, we will calculate a measure called Term Freq Inverse Document \n",
    "#Freq (tf-idf) to calculate a tf-idf vector for each of comments.  \n",
    "#tfidf = TfidfVectorizer(tokenizer= lemma, min_df=5, lowercase = True, ngram_range=(1,2), stop_words='english')\n",
    "#vect_vectorized = tfidf.fit_transform(df['comment']) \n"
   ]
  },
  {
   "cell_type": "code",
   "execution_count": 3,
   "metadata": {},
   "outputs": [
    {
     "name": "stdout",
     "output_type": "stream",
     "text": [
      "['The', 'striped', 'bats', 'are', 'hanging', 'on', 'their', 'feet', 'for', 'best']\n",
      "The strip bat be hang on their feet for best\n"
     ]
    }
   ],
   "source": [
    "import nltk\n",
    "from nltk.stem import WordNetLemmatizer \n",
    "\n",
    "# Define the sentence to be lemmatized\n",
    "sentence = \"The striped bats are hanging on their feet for best\"\n",
    "lemmatizer = WordNetLemmatizer()\n",
    "# Tokenize: Split the sentence into words\n",
    "word_list = nltk.word_tokenize(sentence)\n",
    "print(word_list)\n",
    "#> ['The', 'striped', 'bats', 'are', 'hanging', 'on', 'their', 'feet', 'for', 'best']\n",
    "\n",
    "# Lemmatize list of words and join\n",
    "lemmatized_output = ' '.join([lemmatizer.lemmatize(w, 'v') for w in word_list])\n",
    "print(lemmatized_output)"
   ]
  },
  {
   "cell_type": "code",
   "execution_count": 7,
   "metadata": {},
   "outputs": [],
   "source": [
    "import pyforest\n",
    "from nltk.stem import WordNetLemmatizer \n",
    "def lemma(text):\n",
    "    tokens = nltk.word_tokenize(text)\n",
    "    lemmatizer = WordNetLemmatizer()\n",
    "    lemmatized = [lemmatizer.lemmatize(w,'v') for w in tokens]\n",
    "    return lemmatized"
   ]
  },
  {
   "cell_type": "code",
   "execution_count": 9,
   "metadata": {
    "scrolled": true
   },
   "outputs": [
    {
     "data": {
      "application/javascript": [
       "\n",
       "        if (window._pyforest_update_imports_cell) { window._pyforest_update_imports_cell('from sklearn.feature_extraction.text import TfidfVectorizer\\nimport pandas as pd\\nimport matplotlib.pyplot as plt'); }\n",
       "    "
      ],
      "text/plain": [
       "<IPython.core.display.Javascript object>"
      ]
     },
     "metadata": {},
     "output_type": "display_data"
    },
    {
     "name": "stderr",
     "output_type": "stream",
     "text": [
      "C:\\Users\\yaolsen\\Anaconda3\\lib\\site-packages\\sklearn\\feature_extraction\\text.py:388: UserWarning: Your stop_words may be inconsistent with your preprocessing. Tokenizing the stop words generated tokens ['make'] not in stop_words.\n",
      "  warnings.warn('Your stop_words may be inconsistent with '\n"
     ]
    }
   ],
   "source": [
    "#lemmatize the comment text instead of porter stemming\n",
    "\n",
    "\n",
    "tfidf=TfidfVectorizer(tokenizer= lemma, min_df=3, lowercase = True, ngram_range=(1,2), stop_words='english')\n",
    "features = tfidf.fit_transform(df.final).toarray()\n",
    "labels = df.result\n",
    "features.shape\n",
    "\n",
    "interpretation_id_df = df[['interpretation', 'result']].sort_values('result')\n",
    "interpretation_to_id = dict(interpretation_id_df.values)\n",
    "id_to_interpretation = dict(interpretation_id_df[['result', 'interpretation']].values)"
   ]
  },
  {
   "cell_type": "code",
   "execution_count": 10,
   "metadata": {},
   "outputs": [
    {
     "data": {
      "text/plain": [
       "{'Negative': 0, 'Positive': 1, 'Intermediate': 2}"
      ]
     },
     "execution_count": 10,
     "metadata": {},
     "output_type": "execute_result"
    }
   ],
   "source": [
    "interpretation_to_id"
   ]
  },
  {
   "cell_type": "code",
   "execution_count": 8,
   "metadata": {},
   "outputs": [
    {
     "data": {
      "application/javascript": [
       "\n",
       "        if (window._pyforest_update_imports_cell) { window._pyforest_update_imports_cell('import matplotlib.pyplot as plt\\nimport nltk\\nfrom sklearn.feature_extraction.text import TfidfVectorizer\\nimport pandas as pd\\nimport numpy as np'); }\n",
       "    "
      ],
      "text/plain": [
       "<IPython.core.display.Javascript object>"
      ]
     },
     "metadata": {},
     "output_type": "display_data"
    },
    {
     "data": {
      "text/plain": [
       "20386"
      ]
     },
     "execution_count": 8,
     "metadata": {},
     "output_type": "execute_result"
    }
   ],
   "source": [
    "#np.unique(features.ravel())\n",
    "len(np.unique(features.ravel()))"
   ]
  },
  {
   "cell_type": "code",
   "execution_count": 8,
   "metadata": {},
   "outputs": [
    {
     "data": {
      "text/plain": [
       "(1187, 2382)"
      ]
     },
     "execution_count": 8,
     "metadata": {},
     "output_type": "execute_result"
    }
   ],
   "source": [
    "#each comment is represented by 3956 features, representing the tf-idf score for different unigrams and bigrams. \n",
    "features.shape"
   ]
  },
  {
   "cell_type": "code",
   "execution_count": 9,
   "metadata": {},
   "outputs": [
    {
     "data": {
      "application/javascript": [
       "\n",
       "        if (window._pyforest_update_imports_cell) { window._pyforest_update_imports_cell('import pandas as pd\\nimport matplotlib.pyplot as plt\\nimport nltk\\nfrom sklearn.feature_extraction.text import TfidfVectorizer\\nimport numpy as np'); }\n",
       "    "
      ],
      "text/plain": [
       "<IPython.core.display.Javascript object>"
      ]
     },
     "metadata": {},
     "output_type": "display_data"
    },
    {
     "data": {
      "application/javascript": [
       "\n",
       "        if (window._pyforest_update_imports_cell) { window._pyforest_update_imports_cell('import pandas as pd\\nimport matplotlib.pyplot as plt\\nimport nltk\\nfrom sklearn.feature_extraction.text import TfidfVectorizer\\nimport numpy as np'); }\n",
       "    "
      ],
      "text/plain": [
       "<IPython.core.display.Javascript object>"
      ]
     },
     "metadata": {},
     "output_type": "display_data"
    },
    {
     "name": "stdout",
     "output_type": "stream",
     "text": [
      "# Negative\n",
      "  @@ Most correlated unigrams:\n",
      ". prostate\n",
      ". high\n",
      ". variant\n",
      ". colon\n",
      ". nodular\n",
      ". differentiate\n",
      ". invasion\n",
      ". metastatic\n",
      ". urothelial\n",
      ". grade\n",
      ". suggestive\n",
      ". nod\n",
      ". adenocarcinoma\n",
      ". positive\n",
      ". basal\n",
      ". situ\n",
      ". tumor\n",
      ". consistent\n",
      ". cell\n",
      ". carcinoma\n",
      "  @@ Most correlated bigrams:\n",
      ". variant comment\n",
      ". invasive squamous\n",
      ". feature suggestive\n",
      ". lymph nod\n",
      ". biopsy invasive\n",
      ". ductal carcinoma\n",
      ". high grade\n",
      ". specify negative\n",
      ". situ comment\n",
      ". guide needle\n",
      ". carcinoma nodular\n",
      ". negative high\n",
      ". positive malignancy\n",
      ". carcinoma negative\n",
      ". carcinoma situ\n",
      ". grade urothelial\n",
      ". basal cell\n",
      ". urothelial carcinoma\n",
      ". squamous cell\n",
      ". cell carcinoma\n"
     ]
    },
    {
     "data": {
      "application/javascript": [
       "\n",
       "        if (window._pyforest_update_imports_cell) { window._pyforest_update_imports_cell('import pandas as pd\\nimport matplotlib.pyplot as plt\\nimport nltk\\nfrom sklearn.feature_extraction.text import TfidfVectorizer\\nimport numpy as np'); }\n",
       "    "
      ],
      "text/plain": [
       "<IPython.core.display.Javascript object>"
      ]
     },
     "metadata": {},
     "output_type": "display_data"
    },
    {
     "data": {
      "application/javascript": [
       "\n",
       "        if (window._pyforest_update_imports_cell) { window._pyforest_update_imports_cell('import pandas as pd\\nimport matplotlib.pyplot as plt\\nimport nltk\\nfrom sklearn.feature_extraction.text import TfidfVectorizer\\nimport numpy as np'); }\n",
       "    "
      ],
      "text/plain": [
       "<IPython.core.display.Javascript object>"
      ]
     },
     "metadata": {},
     "output_type": "display_data"
    },
    {
     "name": "stdout",
     "output_type": "stream",
     "text": [
      "# Positive\n",
      "  @@ Most correlated unigrams:\n",
      ". needle\n",
      ". prostate\n",
      ". colon\n",
      ". variant\n",
      ". high\n",
      ". nodular\n",
      ". differentiate\n",
      ". invasion\n",
      ". metastatic\n",
      ". nod\n",
      ". urothelial\n",
      ". grade\n",
      ". adenocarcinoma\n",
      ". positive\n",
      ". basal\n",
      ". situ\n",
      ". tumor\n",
      ". consistent\n",
      ". cell\n",
      ". carcinoma\n",
      "  @@ Most correlated bigrams:\n",
      ". nodular variant\n",
      ". variant comment\n",
      ". invasive squamous\n",
      ". lymph nod\n",
      ". biopsy invasive\n",
      ". ductal carcinoma\n",
      ". specify negative\n",
      ". high grade\n",
      ". situ comment\n",
      ". guide needle\n",
      ". carcinoma nodular\n",
      ". negative high\n",
      ". positive malignancy\n",
      ". carcinoma negative\n",
      ". carcinoma situ\n",
      ". grade urothelial\n",
      ". basal cell\n",
      ". urothelial carcinoma\n",
      ". squamous cell\n",
      ". cell carcinoma\n"
     ]
    },
    {
     "data": {
      "application/javascript": [
       "\n",
       "        if (window._pyforest_update_imports_cell) { window._pyforest_update_imports_cell('import pandas as pd\\nimport matplotlib.pyplot as plt\\nimport nltk\\nfrom sklearn.feature_extraction.text import TfidfVectorizer\\nimport numpy as np'); }\n",
       "    "
      ],
      "text/plain": [
       "<IPython.core.display.Javascript object>"
      ]
     },
     "metadata": {},
     "output_type": "display_data"
    },
    {
     "data": {
      "application/javascript": [
       "\n",
       "        if (window._pyforest_update_imports_cell) { window._pyforest_update_imports_cell('import pandas as pd\\nimport matplotlib.pyplot as plt\\nimport nltk\\nfrom sklearn.feature_extraction.text import TfidfVectorizer\\nimport numpy as np'); }\n",
       "    "
      ],
      "text/plain": [
       "<IPython.core.display.Javascript object>"
      ]
     },
     "metadata": {},
     "output_type": "display_data"
    },
    {
     "name": "stdout",
     "output_type": "stream",
     "text": [
      "# Intermediate\n",
      "  @@ Most correlated unigrams:\n",
      ". ovaries\n",
      ". splenectomy\n",
      ". elevate\n",
      ". reactive\n",
      ". clinically\n",
      ". clinical\n",
      ". gastric\n",
      ". myeloproliferative\n",
      ". jak\n",
      ". process\n",
      ". effect\n",
      ". early\n",
      ". feature\n",
      ". prolapse\n",
      ". ferritin\n",
      ". cytopathic\n",
      ". gastropathy\n",
      ". hpv\n",
      ". thrombocytosis\n",
      ". suggestive\n",
      "  @@ Most correlated bigrams:\n",
      ". organisms esophagus\n",
      ". morphology thrombocytosis\n",
      ". ferritin level\n",
      ". myeloproliferative disorder\n",
      ". correlate clinically\n",
      ". gastric mucosa\n",
      ". biopsy gastric\n",
      ". pylori organisms\n",
      ". cytopathic effect\n",
      ". curettings squamous\n",
      ". reactive gastropathy\n",
      ". mucosa feature\n",
      ". diagnostic hpv\n",
      ". epithelium change\n",
      ". change suggestive\n",
      ". hpv cytopathic\n",
      ". effect transformation\n",
      ". gastropathy pylori\n",
      ". suggestive diagnostic\n",
      ". feature suggestive\n"
     ]
    }
   ],
   "source": [
    "# use chi2 to find the unigram/bigram terms that are the most correlated with each of the category:\n",
    "from sklearn.feature_selection import chi2\n",
    "\n",
    "N = 20\n",
    "for interpretation, result in interpretation_to_id.items():\n",
    "    features_chi2 = chi2(features, labels== result) #return chi2 and p values\n",
    "    #indices = np.asarray(features_chi2).max(0).argsort() \n",
    "    indices = np.argsort(features_chi2[0])\n",
    "    feature_names = np.array(tfidf.get_feature_names())[indices]#tfidf has been fit and transformed.\n",
    "    unigrams = [v for v in feature_names if len(v.split(' ')) == 1]\n",
    "    bigrams = [v for v in feature_names if len(v.split(' ')) == 2]\n",
    "    print(f'# {interpretation}') \n",
    "    ugrams = '\\n. '.join(unigrams[-N:])\n",
    "    print(f'  @@ Most correlated unigrams:\\n. {ugrams}')   \n",
    "    bgrams = '\\n. '.join(bigrams[-N:])\n",
    "    print(f'  @@ Most correlated bigrams:\\n. {bgrams}')   "
   ]
  },
  {
   "cell_type": "markdown",
   "metadata": {},
   "source": []
  },
  {
   "cell_type": "markdown",
   "metadata": {},
   "source": [
    "### name features: top 20 features that have the largest tf-idf\n",
    "classifier+learning algorithms can not directly process the text documents in their original form, as most of them expect numerical feature vector with a fixed size rather than the raw text documents with variable length. One common approach for extracting features from text is to use the bag of words model: where for each document the presence(and often the freq) of words is taken into consideration. Specifically, for each term in our dataset, we will calculate a measure called Term Freq Inverse Document Freq (tf-idf) to calculate a tf-idf vector for each of comments.  "
   ]
  },
  {
   "cell_type": "code",
   "execution_count": 162,
   "metadata": {},
   "outputs": [],
   "source": [
    "stop_words = {'those', 'on', 'own', '’ve', 'yourselves', 'around', 'between', 'four', 'been', 'alone', 'off', 'am', 'then', 'other', 'can', 'regarding', 'hereafter', 'front', 'too', 'used', 'wherein', '‘ll', 'doing', 'everything', 'up', 'onto', 'never', 'either', 'how', 'before', 'anyway', 'since', 'through', 'amount', 'now', 'he', 'was', 'have', 'into', 'because', 'not', 'therefore', 'they', 'n’t', 'even', 'whom', 'it', 'see', 'somewhere', 'thereupon', 'nothing', 'whereas', 'much', 'whenever', 'seem', 'until', 'whereby', 'at', 'also', 'some', 'last', 'than', 'get', 'already', 'our', 'once', 'will', 'noone', \"'m\", 'that', 'what', 'thus', 'myself', 'out', 'next', 'whatever', 'although', 'though', 'which', 'would', 'therein', 'nor', 'somehow', 'whereupon', 'besides', 'whoever', 'ourselves', 'few', 'did', 'without', 'third', 'anything', 'twelve', 'against', 'while', 'twenty', 'if', 'however', 'herself', 'when', 'may', 'ours', 'six', 'done', 'seems', 'else', 'call', 'perhaps', 'had', 'nevertheless', 'where', 'otherwise', 'still', 'within', 'its', 'for', 'together', 'elsewhere', 'throughout', 'of', 'others', 'show', '’s', 'anywhere', 'anyhow', 'as', 'are', 'the', 'hence', 'something', 'hereby', 'nowhere', 'latterly', 'say', 'does', 'neither', 'his', 'go', 'forty', 'put', 'their', 'by', 'namely', 'could', 'five', 'unless', 'itself', 'is', 'nine', 'whereafter', 'down', 'bottom', 'thereby', 'such', 'both', 'she', 'become', 'whole', 'who', 'yourself', 'every', 'thru', 'except', 'very', 'several', 'among', 'being', 'be', 'mine', 'further', 'n‘t', 'here', 'during', 'why', 'with', 'just', \"'s\", 'becomes', '’ll', 'about', 'a', 'using', 'seeming', \"'d\", \"'ll\", \"'re\", 'due', 'wherever', 'beforehand', 'fifty', 'becoming', 'might', 'amongst', 'my', 'empty', 'thence', 'thereafter', 'almost', 'least', 'someone', 'often', 'from', 'keep', 'him', 'or', '‘m', 'top', 'her', 'nobody', 'sometime', 'across', '‘s', '’re', 'hundred', 'only', 'via', 'name', 'eight', 'three', 'back', 'to', 'all', 'became', 'move', 'me', 'we', 'formerly', 'so', 'i', 'whence', 'under', 'always', 'himself', 'in', 'herein', 'more', 'after', 'themselves', 'you', 'above', 'sixty', 'them', 'your', 'made', 'indeed', 'most', 'everywhere', 'fifteen', 'but', 'must', 'along', 'beside', 'hers', 'side', 'former', 'anyone', 'full', 'has', 'yours', 'whose', 'behind', 'please', 'ten', 'seemed', 'sometimes', 'should', 'over', 'take', 'each', 'same', 'rather', 'really', 'latter', 'and', 'ca', 'hereupon', 'part', 'per', 'eleven', 'ever', '‘re', 'enough', \"n't\", 'again', '‘d', 'us', 'yet', 'moreover', 'mostly', 'one', 'meanwhile', 'whither', 'there', 'toward', '’m', \"'ve\", '’d', 'give', 'do', 'an', 'quite', 'these', 'everyone', 'towards', 'this', 'cannot', 'afterwards', 'beyond', 'make', 'were', 'whether', 'well', 'another', 'below', 'first', 'upon', 'any', 'none', 'many', 'serious', 'various', 're', 'two', 'less', '‘ve'}"
   ]
  },
  {
   "cell_type": "code",
   "execution_count": 22,
   "metadata": {
    "scrolled": true
   },
   "outputs": [
    {
     "name": "stdout",
     "output_type": "stream",
     "text": [
      "Stop words\n",
      "\n",
      "['i', 'me', 'my', 'myself', 'we', 'our', 'ours', 'ourselves', 'you', \"you're\", \"you've\", \"you'll\", \"you'd\", 'your', 'yours', 'yourself', 'yourselves', 'he', 'him', 'his', 'himself', 'she', \"she's\", 'her', 'hers', 'herself', 'it', \"it's\", 'its', 'itself', 'they', 'them', 'their', 'theirs', 'themselves', 'what', 'which', 'who', 'whom', 'this', 'that', \"that'll\", 'these', 'those', 'am', 'is', 'are', 'was', 'were', 'be', 'been', 'being', 'have', 'has', 'had', 'having', 'do', 'does', 'did', 'doing', 'a', 'an', 'the', 'and', 'but', 'if', 'or', 'because', 'as', 'until', 'while', 'of', 'at', 'by', 'for', 'with', 'about', 'against', 'between', 'into', 'through', 'during', 'before', 'after', 'above', 'below', 'to', 'from', 'up', 'down', 'in', 'out', 'on', 'off', 'over', 'under', 'again', 'further', 'then', 'once', 'here', 'there', 'when', 'where', 'why', 'how', 'all', 'any', 'both', 'each', 'few', 'more', 'most', 'other', 'some', 'such', 'no', 'nor', 'not', 'only', 'own', 'same', 'so', 'than', 'too', 'very', 's', 't', 'can', 'will', 'just', 'don', \"don't\", 'should', \"should've\", 'now', 'd', 'll', 'm', 'o', 're', 've', 'y', 'ain', 'aren', \"aren't\", 'couldn', \"couldn't\", 'didn', \"didn't\", 'doesn', \"doesn't\", 'hadn', \"hadn't\", 'hasn', \"hasn't\", 'haven', \"haven't\", 'isn', \"isn't\", 'ma', 'mightn', \"mightn't\", 'mustn', \"mustn't\", 'needn', \"needn't\", 'shan', \"shan't\", 'shouldn', \"shouldn't\", 'wasn', \"wasn't\", 'weren', \"weren't\", 'won', \"won't\", 'wouldn', \"wouldn't\"]\n"
     ]
    }
   ],
   "source": [
    "from nltk.corpus import stopwords \n",
    "stopwords_english = stopwords.words('english') \n",
    "print('Stop words\\n')\n",
    "print(stopwords_english)"
   ]
  },
  {
   "cell_type": "code",
   "execution_count": 24,
   "metadata": {},
   "outputs": [
    {
     "name": "stdout",
     "output_type": "stream",
     "text": [
      "Stop words\n",
      "\n",
      "['i', 'me', 'my', 'myself', 'we', 'our', 'ours', 'ourselves', 'you', \"you're\", \"you've\", \"you'll\", \"you'd\", 'your', 'yours', 'yourself', 'yourselves', 'he', 'him', 'his', 'himself', 'she', \"she's\", 'her', 'hers', 'herself', 'it', \"it's\", 'its', 'itself', 'they', 'them', 'their', 'theirs', 'themselves', 'what', 'which', 'who', 'whom', 'this', 'that', \"that'll\", 'these', 'those', 'am', 'is', 'are', 'was', 'were', 'be', 'been', 'being', 'have', 'has', 'had', 'having', 'do', 'does', 'did', 'doing', 'a', 'an', 'the', 'and', 'but', 'if', 'or', 'because', 'as', 'until', 'while', 'of', 'at', 'by', 'for', 'with', 'about', 'against', 'between', 'into', 'through', 'during', 'before', 'after', 'above', 'below', 'to', 'from', 'up', 'down', 'in', 'out', 'on', 'off', 'over', 'under', 'again', 'further', 'then', 'once', 'here', 'there', 'when', 'where', 'why', 'how', 'all', 'any', 'both', 'each', 'few', 'more', 'most', 'other', 'some', 'such', 'nor', 'not', 'only', 'own', 'same', 'so', 'than', 'too', 'very', 's', 't', 'can', 'will', 'just', 'don', \"don't\", 'should', \"should've\", 'now', 'd', 'll', 'm', 'o', 're', 've', 'y', 'ain', 'aren', \"aren't\", 'couldn', \"couldn't\", 'didn', \"didn't\", 'doesn', \"doesn't\", 'hadn', \"hadn't\", 'hasn', \"hasn't\", 'haven', \"haven't\", 'isn', \"isn't\", 'ma', 'mightn', \"mightn't\", 'mustn', \"mustn't\", 'needn', \"needn't\", 'shan', \"shan't\", 'shouldn', \"shouldn't\", 'wasn', \"wasn't\", 'weren', \"weren't\", 'won', \"won't\", 'wouldn', \"wouldn't\"]\n"
     ]
    }
   ],
   "source": [
    "stopwords_english.remove('no')\n",
    " \n",
    "print('Stop words\\n')\n",
    "print(stopwords_english)"
   ]
  },
  {
   "cell_type": "code",
   "execution_count": 97,
   "metadata": {
    "scrolled": true
   },
   "outputs": [
    {
     "name": "stderr",
     "output_type": "stream",
     "text": [
      "C:\\Users\\yaolsen\\Anaconda3\\lib\\site-packages\\sklearn\\feature_extraction\\text.py:489: UserWarning: The parameter 'token_pattern' will not be used since 'tokenizer' is not None'\n",
      "  warnings.warn(\"The parameter 'token_pattern' will not be used\"\n",
      "C:\\Users\\yaolsen\\Anaconda3\\lib\\site-packages\\sklearn\\feature_extraction\\text.py:388: UserWarning: Your stop_words may be inconsistent with your preprocessing. Tokenizing the stop words generated tokens [\"'d\", \"'ll\", \"'re\", \"'s\", \"'ve\", 'could', 'might', 'must', \"n't\", 'need', 'sha', 'win', 'wo', 'would'] not in stop_words.\n",
      "  warnings.warn('Your stop_words may be inconsistent with '\n"
     ]
    }
   ],
   "source": [
    "#tfidf = TfidfVectorizer(tokenizer= lemma, min_df=3, lowercase = True, ngram_range=(1,2), stop_words='english')\n",
    "#vect_vectorized = tfidf.fit_transform(df['final']) \n",
    "from sklearn.feature_extraction.text import CountVectorizer\n",
    "vect_vectorized = CountVectorizer(tokenizer= lemma, min_df=3, ngram_range=(1, 1), analyzer='word', stop_words=stopwords_english).fit(df['final']) "
   ]
  },
  {
   "cell_type": "code",
   "execution_count": 98,
   "metadata": {},
   "outputs": [
    {
     "data": {
      "application/javascript": [
       "\n",
       "        if (window._pyforest_update_imports_cell) { window._pyforest_update_imports_cell('from sklearn.feature_extraction.text import TfidfVectorizer\\nimport pandas as pd\\nimport matplotlib.pyplot as plt\\nimport numpy as np'); }\n",
       "    "
      ],
      "text/plain": [
       "<IPython.core.display.Javascript object>"
      ]
     },
     "metadata": {},
     "output_type": "display_data"
    },
    {
     "data": {
      "text/plain": [
       "879"
      ]
     },
     "execution_count": 98,
     "metadata": {},
     "output_type": "execute_result"
    }
   ],
   "source": [
    "#sorted_tfidf_index = features.max(0).argsort()\n",
    "#a bag names\n",
    "feature_names = np.array(vect_vectorized.get_feature_names())\n",
    "len(feature_names)"
   ]
  },
  {
   "cell_type": "code",
   "execution_count": 99,
   "metadata": {},
   "outputs": [
    {
     "data": {
      "text/plain": [
       "array([[0, 0, 0, ..., 0, 0, 0],\n",
       "       [0, 0, 0, ..., 0, 0, 0],\n",
       "       [0, 0, 0, ..., 0, 0, 0],\n",
       "       ...,\n",
       "       [0, 0, 0, ..., 0, 0, 0],\n",
       "       [0, 0, 0, ..., 0, 0, 0],\n",
       "       [0, 0, 0, ..., 0, 0, 0]], dtype=int64)"
      ]
     },
     "execution_count": 99,
     "metadata": {},
     "output_type": "execute_result"
    }
   ],
   "source": [
    "features = vect_vectorized.fit_transform(df.final).toarray()\n",
    "features"
   ]
  },
  {
   "cell_type": "code",
   "execution_count": 100,
   "metadata": {},
   "outputs": [],
   "source": [
    "labels = df.result"
   ]
  },
  {
   "cell_type": "code",
   "execution_count": 101,
   "metadata": {},
   "outputs": [
    {
     "data": {
      "application/javascript": [
       "\n",
       "        if (window._pyforest_update_imports_cell) { window._pyforest_update_imports_cell('from sklearn.feature_extraction.text import TfidfVectorizer\\nimport pandas as pd\\nimport matplotlib.pyplot as plt\\nimport numpy as np'); }\n",
       "    "
      ],
      "text/plain": [
       "<IPython.core.display.Javascript object>"
      ]
     },
     "metadata": {},
     "output_type": "display_data"
    },
    {
     "data": {
      "text/html": [
       "<div>\n",
       "<style scoped>\n",
       "    .dataframe tbody tr th:only-of-type {\n",
       "        vertical-align: middle;\n",
       "    }\n",
       "\n",
       "    .dataframe tbody tr th {\n",
       "        vertical-align: top;\n",
       "    }\n",
       "\n",
       "    .dataframe thead th {\n",
       "        text-align: right;\n",
       "    }\n",
       "</style>\n",
       "<table border=\"1\" class=\"dataframe\">\n",
       "  <thead>\n",
       "    <tr style=\"text-align: right;\">\n",
       "      <th></th>\n",
       "      <th>abdomen</th>\n",
       "      <th>abdominal</th>\n",
       "      <th>aberrant</th>\n",
       "      <th>abnormality</th>\n",
       "      <th>absent</th>\n",
       "      <th>absolute</th>\n",
       "      <th>acinar</th>\n",
       "      <th>actinic</th>\n",
       "      <th>active</th>\n",
       "      <th>activity</th>\n",
       "      <th>...</th>\n",
       "      <th>wash</th>\n",
       "      <th>weakly</th>\n",
       "      <th>weight</th>\n",
       "      <th>well</th>\n",
       "      <th>white</th>\n",
       "      <th>within</th>\n",
       "      <th>without</th>\n",
       "      <th>wrist</th>\n",
       "      <th>yeast</th>\n",
       "      <th>zone</th>\n",
       "    </tr>\n",
       "  </thead>\n",
       "  <tbody>\n",
       "    <tr>\n",
       "      <th>0</th>\n",
       "      <td>0</td>\n",
       "      <td>0</td>\n",
       "      <td>0</td>\n",
       "      <td>1</td>\n",
       "      <td>0</td>\n",
       "      <td>0</td>\n",
       "      <td>0</td>\n",
       "      <td>0</td>\n",
       "      <td>0</td>\n",
       "      <td>0</td>\n",
       "      <td>...</td>\n",
       "      <td>0</td>\n",
       "      <td>0</td>\n",
       "      <td>0</td>\n",
       "      <td>0</td>\n",
       "      <td>0</td>\n",
       "      <td>0</td>\n",
       "      <td>0</td>\n",
       "      <td>0</td>\n",
       "      <td>0</td>\n",
       "      <td>0</td>\n",
       "    </tr>\n",
       "    <tr>\n",
       "      <th>1</th>\n",
       "      <td>0</td>\n",
       "      <td>0</td>\n",
       "      <td>0</td>\n",
       "      <td>0</td>\n",
       "      <td>0</td>\n",
       "      <td>0</td>\n",
       "      <td>0</td>\n",
       "      <td>0</td>\n",
       "      <td>0</td>\n",
       "      <td>0</td>\n",
       "      <td>...</td>\n",
       "      <td>0</td>\n",
       "      <td>0</td>\n",
       "      <td>0</td>\n",
       "      <td>0</td>\n",
       "      <td>0</td>\n",
       "      <td>0</td>\n",
       "      <td>0</td>\n",
       "      <td>0</td>\n",
       "      <td>0</td>\n",
       "      <td>0</td>\n",
       "    </tr>\n",
       "    <tr>\n",
       "      <th>2</th>\n",
       "      <td>0</td>\n",
       "      <td>0</td>\n",
       "      <td>0</td>\n",
       "      <td>0</td>\n",
       "      <td>0</td>\n",
       "      <td>0</td>\n",
       "      <td>0</td>\n",
       "      <td>0</td>\n",
       "      <td>0</td>\n",
       "      <td>0</td>\n",
       "      <td>...</td>\n",
       "      <td>0</td>\n",
       "      <td>0</td>\n",
       "      <td>0</td>\n",
       "      <td>0</td>\n",
       "      <td>0</td>\n",
       "      <td>0</td>\n",
       "      <td>0</td>\n",
       "      <td>0</td>\n",
       "      <td>0</td>\n",
       "      <td>0</td>\n",
       "    </tr>\n",
       "    <tr>\n",
       "      <th>3</th>\n",
       "      <td>0</td>\n",
       "      <td>0</td>\n",
       "      <td>0</td>\n",
       "      <td>0</td>\n",
       "      <td>0</td>\n",
       "      <td>0</td>\n",
       "      <td>0</td>\n",
       "      <td>0</td>\n",
       "      <td>0</td>\n",
       "      <td>0</td>\n",
       "      <td>...</td>\n",
       "      <td>0</td>\n",
       "      <td>0</td>\n",
       "      <td>0</td>\n",
       "      <td>0</td>\n",
       "      <td>0</td>\n",
       "      <td>0</td>\n",
       "      <td>0</td>\n",
       "      <td>0</td>\n",
       "      <td>0</td>\n",
       "      <td>0</td>\n",
       "    </tr>\n",
       "    <tr>\n",
       "      <th>4</th>\n",
       "      <td>0</td>\n",
       "      <td>0</td>\n",
       "      <td>0</td>\n",
       "      <td>1</td>\n",
       "      <td>0</td>\n",
       "      <td>0</td>\n",
       "      <td>0</td>\n",
       "      <td>0</td>\n",
       "      <td>0</td>\n",
       "      <td>0</td>\n",
       "      <td>...</td>\n",
       "      <td>0</td>\n",
       "      <td>0</td>\n",
       "      <td>0</td>\n",
       "      <td>0</td>\n",
       "      <td>0</td>\n",
       "      <td>0</td>\n",
       "      <td>0</td>\n",
       "      <td>0</td>\n",
       "      <td>0</td>\n",
       "      <td>0</td>\n",
       "    </tr>\n",
       "    <tr>\n",
       "      <th>...</th>\n",
       "      <td>...</td>\n",
       "      <td>...</td>\n",
       "      <td>...</td>\n",
       "      <td>...</td>\n",
       "      <td>...</td>\n",
       "      <td>...</td>\n",
       "      <td>...</td>\n",
       "      <td>...</td>\n",
       "      <td>...</td>\n",
       "      <td>...</td>\n",
       "      <td>...</td>\n",
       "      <td>...</td>\n",
       "      <td>...</td>\n",
       "      <td>...</td>\n",
       "      <td>...</td>\n",
       "      <td>...</td>\n",
       "      <td>...</td>\n",
       "      <td>...</td>\n",
       "      <td>...</td>\n",
       "      <td>...</td>\n",
       "      <td>...</td>\n",
       "    </tr>\n",
       "    <tr>\n",
       "      <th>1182</th>\n",
       "      <td>0</td>\n",
       "      <td>0</td>\n",
       "      <td>0</td>\n",
       "      <td>0</td>\n",
       "      <td>0</td>\n",
       "      <td>0</td>\n",
       "      <td>0</td>\n",
       "      <td>0</td>\n",
       "      <td>0</td>\n",
       "      <td>0</td>\n",
       "      <td>...</td>\n",
       "      <td>0</td>\n",
       "      <td>0</td>\n",
       "      <td>0</td>\n",
       "      <td>0</td>\n",
       "      <td>0</td>\n",
       "      <td>0</td>\n",
       "      <td>0</td>\n",
       "      <td>0</td>\n",
       "      <td>0</td>\n",
       "      <td>0</td>\n",
       "    </tr>\n",
       "    <tr>\n",
       "      <th>1183</th>\n",
       "      <td>0</td>\n",
       "      <td>0</td>\n",
       "      <td>0</td>\n",
       "      <td>0</td>\n",
       "      <td>0</td>\n",
       "      <td>0</td>\n",
       "      <td>0</td>\n",
       "      <td>0</td>\n",
       "      <td>0</td>\n",
       "      <td>0</td>\n",
       "      <td>...</td>\n",
       "      <td>0</td>\n",
       "      <td>0</td>\n",
       "      <td>0</td>\n",
       "      <td>0</td>\n",
       "      <td>0</td>\n",
       "      <td>0</td>\n",
       "      <td>0</td>\n",
       "      <td>0</td>\n",
       "      <td>0</td>\n",
       "      <td>0</td>\n",
       "    </tr>\n",
       "    <tr>\n",
       "      <th>1184</th>\n",
       "      <td>0</td>\n",
       "      <td>0</td>\n",
       "      <td>0</td>\n",
       "      <td>0</td>\n",
       "      <td>0</td>\n",
       "      <td>0</td>\n",
       "      <td>0</td>\n",
       "      <td>0</td>\n",
       "      <td>0</td>\n",
       "      <td>0</td>\n",
       "      <td>...</td>\n",
       "      <td>0</td>\n",
       "      <td>0</td>\n",
       "      <td>0</td>\n",
       "      <td>0</td>\n",
       "      <td>0</td>\n",
       "      <td>0</td>\n",
       "      <td>0</td>\n",
       "      <td>0</td>\n",
       "      <td>0</td>\n",
       "      <td>0</td>\n",
       "    </tr>\n",
       "    <tr>\n",
       "      <th>1185</th>\n",
       "      <td>0</td>\n",
       "      <td>0</td>\n",
       "      <td>0</td>\n",
       "      <td>0</td>\n",
       "      <td>0</td>\n",
       "      <td>0</td>\n",
       "      <td>0</td>\n",
       "      <td>0</td>\n",
       "      <td>0</td>\n",
       "      <td>1</td>\n",
       "      <td>...</td>\n",
       "      <td>0</td>\n",
       "      <td>0</td>\n",
       "      <td>0</td>\n",
       "      <td>0</td>\n",
       "      <td>0</td>\n",
       "      <td>0</td>\n",
       "      <td>0</td>\n",
       "      <td>0</td>\n",
       "      <td>0</td>\n",
       "      <td>0</td>\n",
       "    </tr>\n",
       "    <tr>\n",
       "      <th>1186</th>\n",
       "      <td>0</td>\n",
       "      <td>0</td>\n",
       "      <td>0</td>\n",
       "      <td>0</td>\n",
       "      <td>0</td>\n",
       "      <td>0</td>\n",
       "      <td>0</td>\n",
       "      <td>0</td>\n",
       "      <td>0</td>\n",
       "      <td>0</td>\n",
       "      <td>...</td>\n",
       "      <td>0</td>\n",
       "      <td>0</td>\n",
       "      <td>0</td>\n",
       "      <td>0</td>\n",
       "      <td>0</td>\n",
       "      <td>0</td>\n",
       "      <td>0</td>\n",
       "      <td>0</td>\n",
       "      <td>0</td>\n",
       "      <td>0</td>\n",
       "    </tr>\n",
       "  </tbody>\n",
       "</table>\n",
       "<p>1187 rows × 879 columns</p>\n",
       "</div>"
      ],
      "text/plain": [
       "      abdomen  abdominal  aberrant  abnormality  absent  absolute  acinar  \\\n",
       "0           0          0         0            1       0         0       0   \n",
       "1           0          0         0            0       0         0       0   \n",
       "2           0          0         0            0       0         0       0   \n",
       "3           0          0         0            0       0         0       0   \n",
       "4           0          0         0            1       0         0       0   \n",
       "...       ...        ...       ...          ...     ...       ...     ...   \n",
       "1182        0          0         0            0       0         0       0   \n",
       "1183        0          0         0            0       0         0       0   \n",
       "1184        0          0         0            0       0         0       0   \n",
       "1185        0          0         0            0       0         0       0   \n",
       "1186        0          0         0            0       0         0       0   \n",
       "\n",
       "      actinic  active  activity  ...  wash  weakly  weight  well  white  \\\n",
       "0           0       0         0  ...     0       0       0     0      0   \n",
       "1           0       0         0  ...     0       0       0     0      0   \n",
       "2           0       0         0  ...     0       0       0     0      0   \n",
       "3           0       0         0  ...     0       0       0     0      0   \n",
       "4           0       0         0  ...     0       0       0     0      0   \n",
       "...       ...     ...       ...  ...   ...     ...     ...   ...    ...   \n",
       "1182        0       0         0  ...     0       0       0     0      0   \n",
       "1183        0       0         0  ...     0       0       0     0      0   \n",
       "1184        0       0         0  ...     0       0       0     0      0   \n",
       "1185        0       0         1  ...     0       0       0     0      0   \n",
       "1186        0       0         0  ...     0       0       0     0      0   \n",
       "\n",
       "      within  without  wrist  yeast  zone  \n",
       "0          0        0      0      0     0  \n",
       "1          0        0      0      0     0  \n",
       "2          0        0      0      0     0  \n",
       "3          0        0      0      0     0  \n",
       "4          0        0      0      0     0  \n",
       "...      ...      ...    ...    ...   ...  \n",
       "1182       0        0      0      0     0  \n",
       "1183       0        0      0      0     0  \n",
       "1184       0        0      0      0     0  \n",
       "1185       0        0      0      0     0  \n",
       "1186       0        0      0      0     0  \n",
       "\n",
       "[1187 rows x 879 columns]"
      ]
     },
     "execution_count": 101,
     "metadata": {},
     "output_type": "execute_result"
    }
   ],
   "source": [
    "df1 = pd.DataFrame(features, columns = feature_names)\n",
    "df1#.iloc[1:2, 300:350]\n",
    "#df['carcinoma'][:20]\n",
    "#df1.iloc[1,][400:450]\n",
    "#df1.loc[0, 'no']"
   ]
  },
  {
   "cell_type": "code",
   "execution_count": 102,
   "metadata": {
    "scrolled": true
   },
   "outputs": [
    {
     "data": {
      "application/javascript": [
       "\n",
       "        if (window._pyforest_update_imports_cell) { window._pyforest_update_imports_cell('from sklearn.feature_extraction.text import TfidfVectorizer\\nimport pandas as pd\\nimport matplotlib.pyplot as plt\\nimport numpy as np'); }\n",
       "    "
      ],
      "text/plain": [
       "<IPython.core.display.Javascript object>"
      ]
     },
     "metadata": {},
     "output_type": "display_data"
    },
    {
     "name": "stdout",
     "output_type": "stream",
     "text": [
      "# Negative terms: \n",
      " ['no' 'biopsy' 'see' 'malignancy' 'colon' 'leave' 'skin' 'right'\n",
      " 'negative' 'comment' 'polypectomy' 'atypia' 'benign' 'tissue' 'dysplasia'\n",
      " 'adenoma' 'abnormality' 'tubular' 'evidence' 'mucosa' 'fragment' 'polyp'\n",
      " 'change' 'prostate' 'chronic' 'squamous' 'zone' 'mild' 'identify'\n",
      " 'diagnostic' 'cervix' 'clock' 'present' 'needle' 'endometrium'\n",
      " 'peripheral' 'ascend' 'transformation' 'blood' 'pathologic']\n"
     ]
    }
   ],
   "source": [
    "neg_records = features[labels == 0]\n",
    "len(neg_records)\n",
    "neg_terms = feature_names[np.sum(neg_records, axis=0).argsort()[::-1]][:40]\n",
    "print(f'# Negative terms: \\n {neg_terms}')"
   ]
  },
  {
   "cell_type": "code",
   "execution_count": 103,
   "metadata": {},
   "outputs": [
    {
     "data": {
      "application/javascript": [
       "\n",
       "        if (window._pyforest_update_imports_cell) { window._pyforest_update_imports_cell('from sklearn.feature_extraction.text import TfidfVectorizer\\nimport pandas as pd\\nimport matplotlib.pyplot as plt\\nimport numpy as np'); }\n",
       "    "
      ],
      "text/plain": [
       "<IPython.core.display.Javascript object>"
      ]
     },
     "metadata": {},
     "output_type": "display_data"
    },
    {
     "data": {
      "application/javascript": [
       "\n",
       "        if (window._pyforest_update_imports_cell) { window._pyforest_update_imports_cell('from sklearn.feature_extraction.text import TfidfVectorizer\\nimport pandas as pd\\nimport matplotlib.pyplot as plt\\nimport numpy as np'); }\n",
       "    "
      ],
      "text/plain": [
       "<IPython.core.display.Javascript object>"
      ]
     },
     "metadata": {},
     "output_type": "display_data"
    }
   ],
   "source": [
    "#neg_feature_names = feature_names[neg_records.max(0).argsort()[::-1]], name = 'feature_names' )\n",
    "#neg_feature_names\n",
    "neg_freq_df = pd.DataFrame(sorted(np.sum(neg_records, axis=0).tolist(), reverse = True)[:40], index = neg_terms)"
   ]
  },
  {
   "cell_type": "code",
   "execution_count": null,
   "metadata": {},
   "outputs": [],
   "source": [
    "#neg_freq = pd.Series(sorted(np.sum(neg_records, axis=0).tolist(), reverse = True)[:40], index = neg_terms)\n",
    "#for i, v in neg_freq.items():\n",
    "#    print(i, v)"
   ]
  },
  {
   "cell_type": "code",
   "execution_count": 106,
   "metadata": {},
   "outputs": [
    {
     "data": {
      "application/javascript": [
       "\n",
       "        if (window._pyforest_update_imports_cell) { window._pyforest_update_imports_cell('from sklearn.feature_extraction.text import TfidfVectorizer\\nimport pandas as pd\\nimport matplotlib.pyplot as plt\\nimport numpy as np'); }\n",
       "    "
      ],
      "text/plain": [
       "<IPython.core.display.Javascript object>"
      ]
     },
     "metadata": {},
     "output_type": "display_data"
    },
    {
     "name": "stdout",
     "output_type": "stream",
     "text": [
      "# Positive terms: \n",
      " ['biopsy' 'carcinoma' 'prostate' 'grade' 'right' 'leave' 'tumor' 'needle'\n",
      " 'no' 'negative' 'tissue' 'see' 'malignancy' 'cell' 'nod' 'skin'\n",
      " 'positive' 'invasion' 'lymph' 'comment' 'identify' 'benign' 'evidence'\n",
      " 'invasive' 'atypia' 'core' 'present' 'adenocarcinoma' 'involvement'\n",
      " 'margin' 'lateral' 'squamous' 'breast' 'type' 'node' 'consistent' 'situ'\n",
      " 'score' 'margins' 'metastatic']\n"
     ]
    }
   ],
   "source": [
    "pos_records = features[labels == 1]\n",
    "len(pos_records)\n",
    "pos_terms = feature_names[np.sum(pos_records, axis=0).argsort()[::-1]][:40]\n",
    "print(f'# Positive terms: \\n {pos_terms}')"
   ]
  },
  {
   "cell_type": "code",
   "execution_count": 107,
   "metadata": {},
   "outputs": [
    {
     "data": {
      "application/javascript": [
       "\n",
       "        if (window._pyforest_update_imports_cell) { window._pyforest_update_imports_cell('from sklearn.feature_extraction.text import TfidfVectorizer\\nimport pandas as pd\\nimport matplotlib.pyplot as plt\\nimport numpy as np'); }\n",
       "    "
      ],
      "text/plain": [
       "<IPython.core.display.Javascript object>"
      ]
     },
     "metadata": {},
     "output_type": "display_data"
    },
    {
     "data": {
      "application/javascript": [
       "\n",
       "        if (window._pyforest_update_imports_cell) { window._pyforest_update_imports_cell('from sklearn.feature_extraction.text import TfidfVectorizer\\nimport pandas as pd\\nimport matplotlib.pyplot as plt\\nimport numpy as np'); }\n",
       "    "
      ],
      "text/plain": [
       "<IPython.core.display.Javascript object>"
      ]
     },
     "metadata": {},
     "output_type": "display_data"
    }
   ],
   "source": [
    "pos_freq_df = pd.DataFrame(sorted(np.sum(pos_records, axis=0).tolist(), reverse = True)[:40], index = pos_terms)"
   ]
  },
  {
   "cell_type": "code",
   "execution_count": 108,
   "metadata": {},
   "outputs": [
    {
     "data": {
      "application/javascript": [
       "\n",
       "        if (window._pyforest_update_imports_cell) { window._pyforest_update_imports_cell('from sklearn.feature_extraction.text import TfidfVectorizer\\nimport pandas as pd\\nimport matplotlib.pyplot as plt\\nimport numpy as np'); }\n",
       "    "
      ],
      "text/plain": [
       "<IPython.core.display.Javascript object>"
      ]
     },
     "metadata": {},
     "output_type": "display_data"
    }
   ],
   "source": [
    "both_df= pd.merge(neg_freq_df, pos_freq_df, left_index = True, right_index=True)"
   ]
  },
  {
   "cell_type": "code",
   "execution_count": 109,
   "metadata": {},
   "outputs": [
    {
     "data": {
      "text/plain": [
       "[['no', 565, 160],\n",
       " ['biopsy', 530, 316],\n",
       " ['see', 363, 139],\n",
       " ['malignancy', 296, 134],\n",
       " ['leave', 254, 191],\n",
       " ['skin', 224, 122],\n",
       " ['right', 210, 200],\n",
       " ['negative', 181, 153],\n",
       " ['comment', 177, 108],\n",
       " ['atypia', 164, 87],\n",
       " ['benign', 155, 105],\n",
       " ['tissue', 153, 153],\n",
       " ['evidence', 134, 99],\n",
       " ['prostate', 112, 225],\n",
       " ['squamous', 109, 67],\n",
       " ['identify', 91, 107],\n",
       " ['present', 83, 81],\n",
       " ['needle', 82, 176]]"
      ]
     },
     "execution_count": 109,
     "metadata": {},
     "output_type": "execute_result"
    }
   ],
   "source": [
    "data = []\n",
    "for i, (word, neg, pos) in enumerate(zip(both_df.index.values, both_df['0_x'].values, both_df['0_y'].values)): \n",
    "    data.append([word, neg, pos])\n",
    "data"
   ]
  },
  {
   "cell_type": "markdown",
   "metadata": {},
   "source": [
    "`Use a scatter plot in inspect this table visually. Instead of plotting the raw coutns, we will plot it in the logarithmic scale to take into account the wide discrepancies btw the raw counts(e.g. 'no' has 3568 counts in the neg and only 2 in pos). the red line marks the boundary btw pos and neg areas. Words close to the red line can be classififed as neutral.`"
   ]
  },
  {
   "cell_type": "code",
   "execution_count": 123,
   "metadata": {},
   "outputs": [
    {
     "data": {
      "application/javascript": [
       "\n",
       "        if (window._pyforest_update_imports_cell) { window._pyforest_update_imports_cell('from sklearn.feature_extraction.text import TfidfVectorizer\\nimport pandas as pd\\nimport matplotlib.pyplot as plt\\nimport numpy as np'); }\n",
       "    "
      ],
      "text/plain": [
       "<IPython.core.display.Javascript object>"
      ]
     },
     "metadata": {},
     "output_type": "display_data"
    },
    {
     "data": {
      "application/javascript": [
       "\n",
       "        if (window._pyforest_update_imports_cell) { window._pyforest_update_imports_cell('from sklearn.feature_extraction.text import TfidfVectorizer\\nimport pandas as pd\\nimport matplotlib.pyplot as plt\\nimport numpy as np'); }\n",
       "    "
      ],
      "text/plain": [
       "<IPython.core.display.Javascript object>"
      ]
     },
     "metadata": {},
     "output_type": "display_data"
    },
    {
     "data": {
      "application/javascript": [
       "\n",
       "        if (window._pyforest_update_imports_cell) { window._pyforest_update_imports_cell('from sklearn.feature_extraction.text import TfidfVectorizer\\nimport pandas as pd\\nimport matplotlib.pyplot as plt\\nimport numpy as np'); }\n",
       "    "
      ],
      "text/plain": [
       "<IPython.core.display.Javascript object>"
      ]
     },
     "metadata": {},
     "output_type": "display_data"
    },
    {
     "data": {
      "application/javascript": [
       "\n",
       "        if (window._pyforest_update_imports_cell) { window._pyforest_update_imports_cell('from sklearn.feature_extraction.text import TfidfVectorizer\\nimport pandas as pd\\nimport matplotlib.pyplot as plt\\nimport numpy as np'); }\n",
       "    "
      ],
      "text/plain": [
       "<IPython.core.display.Javascript object>"
      ]
     },
     "metadata": {},
     "output_type": "display_data"
    },
    {
     "data": {
      "application/javascript": [
       "\n",
       "        if (window._pyforest_update_imports_cell) { window._pyforest_update_imports_cell('from sklearn.feature_extraction.text import TfidfVectorizer\\nimport pandas as pd\\nimport matplotlib.pyplot as plt\\nimport numpy as np'); }\n",
       "    "
      ],
      "text/plain": [
       "<IPython.core.display.Javascript object>"
      ]
     },
     "metadata": {},
     "output_type": "display_data"
    },
    {
     "data": {
      "application/javascript": [
       "\n",
       "        if (window._pyforest_update_imports_cell) { window._pyforest_update_imports_cell('from sklearn.feature_extraction.text import TfidfVectorizer\\nimport pandas as pd\\nimport matplotlib.pyplot as plt\\nimport numpy as np'); }\n",
       "    "
      ],
      "text/plain": [
       "<IPython.core.display.Javascript object>"
      ]
     },
     "metadata": {},
     "output_type": "display_data"
    },
    {
     "data": {
      "image/png": "[encoded data removed]",
      "text/plain": [
       "<Figure size 576x576 with 1 Axes>"
      ]
     },
     "metadata": {
      "needs_background": "light"
     },
     "output_type": "display_data"
    }
   ],
   "source": [
    "fig, ax = plt.subplots(figsize = (8, 8))\n",
    "# convert pos raw counts to logarithmic scale. we add 1 to avoid log(0)\n",
    "x = np.log([x[2]/10+1 for x in data])\n",
    "#x = [x[2]*10 for x in data]\n",
    "# do the same for the negative counts\n",
    "y = np.log([x[1]/10+1 for x in data])\n",
    "#y = [x[1]*10 for x in data]\n",
    "#plot a dot for each pair of words\n",
    "ax.scatter(x, y)\n",
    "\n",
    "#assign axis labels\n",
    "plt.xlabel(\"Log Positive count\")\n",
    "plt.ylabel(\"Log Negative count\")\n",
    "\n",
    "#Add the word as the label as the same position as you added the points just before\n",
    "for i in range(0, len(data)):\n",
    "    ax.annotate(data[i][0], (x[i], y[i]), fontsize=12)\n",
    "\n",
    "ax.plot([2, 4], [2, 4], color = 'red') #plot the red line that divides the 2 areas\n",
    "plt.show()"
   ]
  },
  {
   "cell_type": "code",
   "execution_count": null,
   "metadata": {},
   "outputs": [],
   "source": []
  },
  {
   "cell_type": "code",
   "execution_count": 170,
   "metadata": {
    "scrolled": true
   },
   "outputs": [
    {
     "name": "stdout",
     "output_type": "stream",
     "text": [
      "# Positive\n",
      "  @@ Most relevent unigrams:\n",
      ". prostate\n",
      ". nod\n",
      ". tumor\n",
      ". grade\n",
      ". tissue\n",
      ". lymph\n",
      ". biopsy\n",
      ". needle\n",
      ". no\n",
      ". atypia\n",
      ". evidence\n",
      ". malignancy\n",
      ". benign\n",
      ". negative\n",
      ". margin\n",
      ". carcinoma\n",
      ". positive\n",
      ". number\n",
      ". renal\n",
      ". invasive\n",
      ". dcis\n",
      ". present\n",
      ". pelvic\n",
      ". breast\n",
      ". lateral\n",
      ". invasion\n",
      ". aortic\n",
      ". involvement\n",
      ". right\n",
      ". adenocarcinoma\n",
      ". score\n",
      ". core\n",
      ". leave\n",
      ". identify\n",
      ". edle\n",
      ". gleason\n",
      ". group\n",
      ". colon\n",
      ". perineural\n",
      ". superficial\n",
      "  @@ Most relevent bigrams:\n",
      ". needle biopsy\n",
      ". benign prostate\n",
      ". no evidence\n",
      ". malignancy prostate\n",
      ". biopsy benign\n",
      ". tissue no\n",
      ". evidence atypia\n",
      ". lymph nod\n",
      ". atypia malignancy\n",
      ". prostate tissue\n",
      ". positive tissue\n",
      ". tissue involvement\n",
      ". biopsy adenocarcinoma\n",
      ". core positive\n",
      ". involvement perineural\n",
      ". edle core\n",
      ". prostate leave\n",
      ". grade group\n",
      ". adenocarcinoma grade\n",
      ". score edle\n"
     ]
    }
   ],
   "source": [
    "#find out the most relevent unigram/bigram terms related to negative\n",
    "features[labels == 1 ]\n",
    "len(pos_records)\n",
    "pos_feature_names = feature_names[pos_records.max(0).argsort()[::-1]] \n",
    "unigrams = [v for v in pos_feature_names if len(v.split(' ')) == 1]\n",
    "bigrams = [v for v in pos_feature_names if len(v.split(' ')) == 2]\n",
    "print(f'# Positive') \n",
    "ugrams = '\\n. '.join(unigrams[: 40])\n",
    "print(f'  @@ Most relevent unigrams:\\n. {ugrams}') \n",
    "bgrams = '\\n. '.join(bigrams[: 20])\n",
    "print(f'  @@ Most relevent bigrams:\\n. {bgrams}')   "
   ]
  },
  {
   "cell_type": "code",
   "execution_count": 20,
   "metadata": {},
   "outputs": [
    {
     "data": {
      "application/javascript": [
       "\n",
       "        if (window._pyforest_update_imports_cell) { window._pyforest_update_imports_cell('import matplotlib.pyplot as plt\\nimport nltk\\nfrom sklearn.feature_extraction.text import TfidfVectorizer\\nimport pandas as pd\\nimport numpy as np'); }\n",
       "    "
      ],
      "text/plain": [
       "<IPython.core.display.Javascript object>"
      ]
     },
     "metadata": {},
     "output_type": "display_data"
    },
    {
     "data": {
      "application/javascript": [
       "\n",
       "        if (window._pyforest_update_imports_cell) { window._pyforest_update_imports_cell('import matplotlib.pyplot as plt\\nimport nltk\\nfrom sklearn.feature_extraction.text import TfidfVectorizer\\nimport pandas as pd\\nimport numpy as np'); }\n",
       "    "
      ],
      "text/plain": [
       "<IPython.core.display.Javascript object>"
      ]
     },
     "metadata": {},
     "output_type": "display_data"
    },
    {
     "name": "stdout",
     "output_type": "stream",
     "text": [
      "0.5162449183848502\n",
      "0.314131253631809\n"
     ]
    }
   ],
   "source": [
    "pos_feature_names = pd.Series(feature_names[pos_records.max(0).argsort()[::-1]], name = 'feature_names' )\n",
    "sorted_pos_value = pd.Series(sorted(pos_records.max(0).tolist(), reverse=True), name='tfidf', index = pos_feature_names)\n",
    "#sorted_neg_value[:100].index\n",
    "#unigrams = [v for v in sorted_neg_value.index if len(v.split(' ')) == 1]\n",
    "#ugrams = '\\n. '.join(unigrams[: 132])\n",
    "#print(f'  @@ Most used unigrams:\\n. {ugrams}') \n",
    "print(sorted_pos_value['carcinosarcoma'])\n",
    "print(sorted_pos_value['carcinoma'])"
   ]
  },
  {
   "cell_type": "code",
   "execution_count": 172,
   "metadata": {},
   "outputs": [
    {
     "name": "stdout",
     "output_type": "stream",
     "text": [
      "# Negative\n",
      "  @@ Most used unigrams:\n",
      ". unspecified\n",
      ". nutritional\n",
      ". helix\n",
      ". finger\n",
      ". neutrophils\n",
      ". leg\n",
      ". tubulovillous\n",
      ". gallbladder\n",
      ". organisms\n",
      ". aggregate\n",
      ". kidney\n",
      ". anatomic\n",
      ". pression\n",
      ". buttock\n",
      ". field\n",
      ". dermatofibroma\n",
      ". frontal\n",
      ". endometrium\n",
      ". chest\n",
      ". bowel\n",
      ". resection\n",
      ". low\n",
      ". exact\n",
      ". leave\n",
      ". gland\n",
      ". repair\n",
      ". microangiopathic\n",
      ". represent\n",
      ". endometrial\n",
      ". cholecystitis\n",
      ". placenta\n",
      ". rupture\n",
      ". sac\n",
      ". vaginal\n",
      ". folliculitis\n",
      ". necrotic\n",
      ". term\n",
      ". neutropenia\n",
      ". endocervix\n",
      ". pigment\n",
      "  @@ Most used bigrams:\n",
      ". biopsy atypical\n",
      ". analysis negative\n",
      ". leave breast\n",
      ". cecum ascend\n",
      ". right ovary\n",
      ". colon random\n",
      ". mammoplasty benign\n",
      ". uninvolved tumor\n",
      ". hyperplastic polyp\n",
      ". mass excision\n",
      ". breast partial\n",
      ". biopsy melanoma\n",
      ". ulceration satellite\n",
      ". cyst excision\n",
      ". granulation tissue\n",
      ". level tumor\n",
      ". esophagus biopsy\n",
      ". keratosis skin\n",
      ". endometrial polyp\n",
      ". right shoulder\n"
     ]
    }
   ],
   "source": [
    "#find out the most relevent unigram/bigram terms related to negative\n",
    "pos_records = features[labels == 0 ]\n",
    "neg_feature_names = feature_names[neg_records.max(0).argsort()[::-1]] \n",
    "unigrams = [v for v in neg_feature_names if len(v.split(' ')) == 1]\n",
    "bigrams = [v for v in neg_feature_names if len(v.split(' ')) == 2]\n",
    "print(f'# Negative') \n",
    "ugrams = '\\n. '.join(unigrams[: 40])\n",
    "print(f'  @@ Most used unigrams:\\n. {ugrams}') \n",
    "bgrams = '\\n. '.join(bigrams[: 20])\n",
    "print(f'  @@ Most used bigrams:\\n. {bgrams}')  \n",
    "#terms = '\\n. '.join(neg_feature_names[:100])\n",
    "#print(f'. {terms}')"
   ]
  },
  {
   "cell_type": "code",
   "execution_count": 55,
   "metadata": {},
   "outputs": [
    {
     "data": {
      "application/javascript": [
       "\n",
       "        if (window._pyforest_update_imports_cell) { window._pyforest_update_imports_cell('import matplotlib.pyplot as plt\\nimport nltk\\nfrom sklearn.feature_extraction.text import TfidfVectorizer\\nimport pandas as pd\\nimport numpy as np'); }\n",
       "    "
      ],
      "text/plain": [
       "<IPython.core.display.Javascript object>"
      ]
     },
     "metadata": {},
     "output_type": "display_data"
    },
    {
     "data": {
      "application/javascript": [
       "\n",
       "        if (window._pyforest_update_imports_cell) { window._pyforest_update_imports_cell('import matplotlib.pyplot as plt\\nimport nltk\\nfrom sklearn.feature_extraction.text import TfidfVectorizer\\nimport pandas as pd\\nimport numpy as np'); }\n",
       "    "
      ],
      "text/plain": [
       "<IPython.core.display.Javascript object>"
      ]
     },
     "metadata": {},
     "output_type": "display_data"
    },
    {
     "name": "stdout",
     "output_type": "stream",
     "text": [
      "0.23552578103837193\n"
     ]
    }
   ],
   "source": [
    "neg_feature_names = pd.Series(feature_names[neg_records.max(0).argsort()[::-1]], name = 'feature_names' )\n",
    "sorted_neg_value = pd.Series(sorted(neg_records.max(0).tolist(), reverse=True), name='tfidf', index = neg_feature_names)\n",
    "#sorted_neg_value[:100].index\n",
    "#unigrams = [v for v in sorted_neg_value.index if len(v.split(' ')) == 1]\n",
    "#ugrams = '\\n. '.join(unigrams[: 132])\n",
    "#print(f'  @@ Most used unigrams:\\n. {ugrams}') \n",
    "print(sorted_neg_value['negative']) "
   ]
  },
  {
   "cell_type": "code",
   "execution_count": 14,
   "metadata": {
    "scrolled": true
   },
   "outputs": [
    {
     "data": {
      "application/javascript": [
       "\n",
       "        if (window._pyforest_update_imports_cell) { window._pyforest_update_imports_cell('import pandas as pd\\nimport matplotlib.pyplot as plt\\nimport nltk\\nfrom sklearn.feature_extraction.text import TfidfVectorizer\\nimport numpy as np'); }\n",
       "    "
      ],
      "text/plain": [
       "<IPython.core.display.Javascript object>"
      ]
     },
     "metadata": {},
     "output_type": "display_data"
    }
   ],
   "source": [
    "#features now are all in a matrix. find max value along the rows. \n",
    "names = pd.Series(feature_names[vect_vectorized.max(0).toarray().ravel().argsort()], name = 'feature_names')"
   ]
  },
  {
   "cell_type": "code",
   "execution_count": 15,
   "metadata": {},
   "outputs": [
    {
     "data": {
      "application/javascript": [
       "\n",
       "        if (window._pyforest_update_imports_cell) { window._pyforest_update_imports_cell('import pandas as pd\\nimport matplotlib.pyplot as plt\\nimport nltk\\nfrom sklearn.feature_extraction.text import TfidfVectorizer\\nimport numpy as np'); }\n",
       "    "
      ],
      "text/plain": [
       "<IPython.core.display.Javascript object>"
      ]
     },
     "metadata": {},
     "output_type": "display_data"
    }
   ],
   "source": [
    "sorted_tfidf_value = pd.Series(sorted(vect_vectorized.max(0).toarray().ravel().tolist()), name='tfidf', index = names)"
   ]
  },
  {
   "cell_type": "code",
   "execution_count": 139,
   "metadata": {},
   "outputs": [
    {
     "data": {
      "application/javascript": [
       "\n",
       "        if (window._pyforest_update_imports_cell) { window._pyforest_update_imports_cell('import pandas as pd\\nimport nltk\\nimport numpy as np\\nimport matplotlib.pyplot as plt\\nfrom sklearn.feature_extraction.text import TfidfVectorizer'); }\n",
       "    "
      ],
      "text/plain": [
       "<IPython.core.display.Javascript object>"
      ]
     },
     "metadata": {},
     "output_type": "display_data"
    }
   ],
   "source": [
    "#vect_df = pd.concat([names, sorted_tfidf_value], axis=1)\n",
    "#vect_df.set_index('feature_names') "
   ]
  },
  {
   "cell_type": "code",
   "execution_count": 16,
   "metadata": {
    "collapsed": true
   },
   "outputs": [
    {
     "data": {
      "text/plain": [
       "feature_names\n",
       "biopsy               1.000000\n",
       "valve                0.784733\n",
       "parathyroid          0.769012\n",
       "thrombocytosis       0.748033\n",
       "hemangioma           0.689648\n",
       "finger               0.686502\n",
       "nevus                0.658684\n",
       "amputation           0.657479\n",
       "leave cheek          0.657405\n",
       "cd                   0.656424\n",
       "scar                 0.653733\n",
       "leiomyoma            0.652049\n",
       "ulcer                0.649603\n",
       "gallbladder          0.647710\n",
       "partially            0.647265\n",
       "colon polypectomy    0.643622\n",
       "adrenal              0.629745\n",
       "knee                 0.625595\n",
       "analysis             0.616276\n",
       "margin               0.615067\n",
       "Name: tfidf, dtype: float64"
      ]
     },
     "execution_count": 16,
     "metadata": {},
     "output_type": "execute_result"
    }
   ],
   "source": [
    "sorted_tfidf_value.nlargest(20) # katherine needs to be removed. "
   ]
  },
  {
   "cell_type": "code",
   "execution_count": 17,
   "metadata": {
    "collapsed": true
   },
   "outputs": [
    {
     "data": {
      "text/plain": [
       "484      identify esophagus\n",
       "494        pylori esophagus\n",
       "525         esophagus lower\n",
       "625     organisms esophagus\n",
       "727            esophagus ge\n",
       "841     dysplasia esophagus\n",
       "1128      barrett esophagus\n",
       "1193       esophagus distal\n",
       "1258     esophagus negative\n",
       "1583    esophagus dysplasia\n",
       "1678       esophagus middle\n",
       "2155       esophagus biopsy\n",
       "2219       esophagus random\n",
       "2342              esophagus\n",
       "Name: feature_names, dtype: object"
      ]
     },
     "execution_count": 17,
     "metadata": {},
     "output_type": "execute_result"
    }
   ],
   "source": [
    "names[names.str.contains('esophagu')]"
   ]
  },
  {
   "cell_type": "code",
   "execution_count": 18,
   "metadata": {
    "collapsed": true
   },
   "outputs": [
    {
     "data": {
      "text/plain": [
       "feature_names\n",
       "identify esophagus     0.175205\n",
       "pylori esophagus       0.182879\n",
       "esophagus lower        0.186541\n",
       "organisms esophagus    0.207566\n",
       "esophagus ge           0.226395\n",
       "dysplasia esophagus    0.244131\n",
       "barrett esophagus      0.283818\n",
       "esophagus distal       0.292866\n",
       "esophagus negative     0.300204\n",
       "esophagus dysplasia    0.335369\n",
       "esophagus middle       0.347362\n",
       "esophagus biopsy       0.434442\n",
       "esophagus random       0.451943\n",
       "esophagus              0.538074\n",
       "Name: tfidf, dtype: float64"
      ]
     },
     "execution_count": 18,
     "metadata": {},
     "output_type": "execute_result"
    }
   ],
   "source": [
    "sorted_tfidf_value[sorted_tfidf_value.index.str.contains('esophagu')]"
   ]
  },
  {
   "cell_type": "code",
   "execution_count": 174,
   "metadata": {},
   "outputs": [],
   "source": [
    "#sorted_tfidf_value.index"
   ]
  },
  {
   "cell_type": "code",
   "execution_count": null,
   "metadata": {},
   "outputs": [],
   "source": [
    "#historical code:\n",
    "vect = TfidfVectorizer(lowercase = True, stop_words = 'english', ngram_range=(2,5) ).fit(df['comment'])\n",
    "feature_names = np.array(vect.get_feature_names())\n",
    "#transform the document into a do\n",
    "vect_vectorized = vect.transform(df['comment']) \n",
    "sorted_tfidf_index = vect_vectorized.max(0).toarray().ravel().argsort()\n",
    "names = pd.Series(feature_names[vect_vectorized.max(0).toarray().ravel().argsort()], name = 'feature_names')\n",
    "sorted_tfidf_value = pd.Series(sorted(vect_vectorized.max(0).toarray().ravel().tolist()), name='tfidf')\n",
    "vect_df = pd.concat([names, sorted_tfidf_value], axis=1)\n",
    "small_df= vect_df.sort_values(by=['tfidf', 'feature_names']).iloc[:20,]\n",
    "small_s=small_df['tfidf']\n",
    "small_s.index=small_df['feature_names']\n",
    "small_s.name=None\n",
    "small_s.index.name=None\n",
    "small_s\n",
    "large_df = vect_df.sort_values(by=['tfidf', 'feature_names'], ascending = [False, True]).iloc[:20,] \n",
    "large_s = large_df['tfidf']\n",
    "large_s.index=large_df['feature_names']\n",
    "large_s.name = None\n",
    "large_s.index.name = None"
   ]
  },
  {
   "cell_type": "code",
   "execution_count": 175,
   "metadata": {},
   "outputs": [
    {
     "data": {
      "application/javascript": [
       "\n",
       "        if (window._pyforest_update_imports_cell) { window._pyforest_update_imports_cell('import pandas as pd\\nimport nltk\\nimport numpy as np\\nimport matplotlib.pyplot as plt\\nfrom sklearn.feature_extraction.text import TfidfVectorizer'); }\n",
       "    "
      ],
      "text/plain": [
       "<IPython.core.display.Javascript object>"
      ]
     },
     "metadata": {},
     "output_type": "display_data"
    }
   ],
   "source": [
    "sorted_tfidf_value = pd.Series(sorted(vect_vectorized.max(0).toarray().ravel().tolist()), name='tfidf')"
   ]
  },
  {
   "cell_type": "code",
   "execution_count": 176,
   "metadata": {},
   "outputs": [
    {
     "data": {
      "application/javascript": [
       "\n",
       "        if (window._pyforest_update_imports_cell) { window._pyforest_update_imports_cell('import pandas as pd\\nimport nltk\\nimport numpy as np\\nimport matplotlib.pyplot as plt\\nfrom sklearn.feature_extraction.text import TfidfVectorizer'); }\n",
       "    "
      ],
      "text/plain": [
       "<IPython.core.display.Javascript object>"
      ]
     },
     "metadata": {},
     "output_type": "display_data"
    }
   ],
   "source": [
    "vect_df = pd.concat([names, sorted_tfidf_value], axis=1)"
   ]
  },
  {
   "cell_type": "code",
   "execution_count": 178,
   "metadata": {},
   "outputs": [],
   "source": [
    "large_df = vect_df.sort_values(by=['tfidf', 'feature_names'], ascending = [False, True]).iloc[:20,] "
   ]
  },
  {
   "cell_type": "code",
   "execution_count": 4,
   "metadata": {},
   "outputs": [
    {
     "data": {
      "text/plain": [
       "range(2, 100, 5)"
      ]
     },
     "execution_count": 4,
     "metadata": {},
     "output_type": "execute_result"
    }
   ],
   "source": [
    "test_k = range(2, 100)[::5]\n",
    "test_k "
   ]
  },
  {
   "cell_type": "code",
   "execution_count": null,
   "metadata": {},
   "outputs": [],
   "source": []
  },
  {
   "cell_type": "code",
   "execution_count": null,
   "metadata": {},
   "outputs": [],
   "source": []
  }
 ],
 "metadata": {
  "kernelspec": {
   "display_name": "Python 3",
   "language": "python",
   "name": "python3"
  },
  "language_info": {
   "codemirror_mode": {
    "name": "ipython",
    "version": 3
   },
   "file_extension": ".py",
   "mimetype": "text/x-python",
   "name": "python",
   "nbconvert_exporter": "python",
   "pygments_lexer": "ipython3",
   "version": "3.8.8"
  }
 },
 "nbformat": 4,
 "nbformat_minor": 4
}
