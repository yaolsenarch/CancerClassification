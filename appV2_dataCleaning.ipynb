{
 "cells": [
  {
   "cell_type": "markdown",
   "metadata": {},
   "source": [
    "## Cancer Classifier POC"
   ]
  },
  {
   "cell_type": "markdown",
   "metadata": {},
   "source": [
    "## <span style=\"color:red\">I Data import & cleaning</span>"
   ]
  },
  {
   "cell_type": "code",
   "execution_count": null,
   "metadata": {},
   "outputs": [],
   "source": [
    "import pyforest\n",
    "#df.style.set_properties(subset=['comment'], **{'width': '600px'})\n",
    "#lazy_imports()"
   ]
  },
  {
   "cell_type": "code",
   "execution_count": null,
   "metadata": {},
   "outputs": [],
   "source": [
    "df = pd.read_excel(\"AmarNLP.xlsx\", header=2, usecols=['specNum', 'final', 'interpretation'])"
   ]
  },
  {
   "cell_type": "code",
   "execution_count": null,
   "metadata": {
    "scrolled": true
   },
   "outputs": [],
   "source": [
    "df.head()"
   ]
  },
  {
   "cell_type": "code",
   "execution_count": null,
   "metadata": {},
   "outputs": [],
   "source": [
    "df.info()"
   ]
  },
  {
   "cell_type": "code",
   "execution_count": null,
   "metadata": {},
   "outputs": [],
   "source": [
    "#Per dicussion with Amar, the records starting with C should be elimnated. \n",
    "\n",
    "df = df[~df['specNum'].str.startswith('C')]"
   ]
  },
  {
   "cell_type": "code",
   "execution_count": null,
   "metadata": {},
   "outputs": [],
   "source": [
    "df[df['specNum'].str.startswith('C')]"
   ]
  },
  {
   "cell_type": "code",
   "execution_count": null,
   "metadata": {},
   "outputs": [],
   "source": [
    "#Per discussion with Amar, the final should be all lower case\n",
    "#lowerfinal = df.loc[, 'final'].str.lower()\n",
    "#df['final'] = lowerfinal\n",
    "df.loc[:, 'final'] = df['final'].str.lower()"
   ]
  },
  {
   "cell_type": "code",
   "execution_count": null,
   "metadata": {},
   "outputs": [],
   "source": [
    "df.reset_index(drop=True, inplace = True )"
   ]
  },
  {
   "cell_type": "code",
   "execution_count": null,
   "metadata": {},
   "outputs": [],
   "source": [
    "df.drop_duplicates(keep='first',inplace=True)"
   ]
  },
  {
   "cell_type": "code",
   "execution_count": null,
   "metadata": {},
   "outputs": [],
   "source": [
    "result_map = {'Negative': 0, \n",
    "            'Positive': 1,\n",
    "            'Intermediate': 2} \n",
    "df['result']=df['interpretation'].map(result_map)"
   ]
  },
  {
   "cell_type": "code",
   "execution_count": null,
   "metadata": {},
   "outputs": [],
   "source": [
    "df.style.set_properties(subset=['final'], **{'width': '1000px'})\n",
    "#lazy_imports()"
   ]
  },
  {
   "cell_type": "code",
   "execution_count": null,
   "metadata": {},
   "outputs": [],
   "source": [
    "df1 = df.copy()"
   ]
  },
  {
   "cell_type": "code",
   "execution_count": null,
   "metadata": {},
   "outputs": [],
   "source": [
    "df1"
   ]
  },
  {
   "cell_type": "markdown",
   "metadata": {},
   "source": [
    "## Data Cleaning"
   ]
  },
  {
   "cell_type": "code",
   "execution_count": null,
   "metadata": {},
   "outputs": [],
   "source": [
    "#Per Amar, doing the following data cleaning: \n",
    "import re\n",
    "text = 'A&B. Bladder, left wall, superficial and deep, TUR --      1. High grade papillary urothelial carcinoma      2. Lamina propria and muscularis propria invasion present'\n",
    "text = text.lower()\n",
    "text"
   ]
  },
  {
   "cell_type": "code",
   "execution_count": null,
   "metadata": {},
   "outputs": [],
   "source": [
    "# 1) remove numbers + 2letter unit\n",
    "#re.findall(r'\\d+ *[a-z]{2}', text)\n",
    "text = re.sub(r'\\d+ *[a-z]{2}', ' ', text)\n",
    "text"
   ]
  },
  {
   "cell_type": "code",
   "execution_count": null,
   "metadata": {},
   "outputs": [],
   "source": [
    "# 2) remove all punctuations and numbers\n",
    "re.findall(r'[^\\w\\s]', text)\n",
    "#re.sub(r'\\s+', ' ', text)\n",
    "text = re.sub(r'[^\\w\\s]', ' ', text)\n",
    "text"
   ]
  },
  {
   "cell_type": "code",
   "execution_count": null,
   "metadata": {},
   "outputs": [],
   "source": [
    "# 3)remove numbers\n",
    "#re.findall(r'\\d+', text)\n",
    "text = re.sub(r'\\d+', ' ', text)"
   ]
  },
  {
   "cell_type": "code",
   "execution_count": null,
   "metadata": {},
   "outputs": [],
   "source": [
    "text"
   ]
  },
  {
   "cell_type": "code",
   "execution_count": null,
   "metadata": {},
   "outputs": [],
   "source": [
    "# 4) remove single letters\n",
    "#re.findall(r'(^[a-z] +| +[a-z] +| +$[a-z])', text)\n",
    "#text =  re.sub(r'(^[a-z] +|^[a-z] [a-z] | +[a-z] +| +$[a-z]| [a-z] $[a-z])', ' ', text)\n",
    "#text =  re.sub(r'(^[a-z] +|^[a-z] [a-z] +| +[a-z] +| +[a-z] [a-z] +| +$[a-z]| +[a-z] $[a-z])', ' ', text)\n",
    "text =  re.sub(r'(\\\\b[a-z] \\\\b|\\\\b [a-z]\\\\b)', ' ', text)\n",
    "\n",
    "text"
   ]
  },
  {
   "cell_type": "code",
   "execution_count": null,
   "metadata": {},
   "outputs": [],
   "source": [
    "# 5)remove extra space\n",
    "text = re.sub(r' +', ' ', text)"
   ]
  },
  {
   "cell_type": "code",
   "execution_count": null,
   "metadata": {},
   "outputs": [],
   "source": [
    "# 6) strip space both ends\n",
    "re.findall(r'(^ |$ )', text)\n",
    "text = re.sub(r'(^ |$ )', '', text)"
   ]
  },
  {
   "cell_type": "code",
   "execution_count": null,
   "metadata": {
    "scrolled": true
   },
   "outputs": [],
   "source": [
    "text.strip()"
   ]
  },
  {
   "cell_type": "code",
   "execution_count": null,
   "metadata": {},
   "outputs": [],
   "source": [
    "#data cleaning on data frame\n",
    "# 1) remove numbers + 2letter unit\n",
    "#re.findall(r'\\d+ *[a-z]{2}', text)\n",
    "#text = re.sub(r'\\d+ *[a-z]{2}', ' ', text)\n",
    "df1['final'] = df1['final'].str.replace(r'\\d+ *[a-z]{2}', ' ')\n",
    "df1"
   ]
  },
  {
   "cell_type": "code",
   "execution_count": null,
   "metadata": {
    "scrolled": true
   },
   "outputs": [],
   "source": [
    "# 2) remove all punctuations and numbers\n",
    "#re.findall(r'[^\\w\\s]', text)\n",
    "#re.sub(r'\\s+', ' ', text)\n",
    "#text = re.sub(r'[^\\w\\s]', ' ', text)\n",
    "df1['final'] = df1['final'].str.replace(r'[^\\w\\s]', ' ')\n",
    "df1"
   ]
  },
  {
   "cell_type": "code",
   "execution_count": null,
   "metadata": {},
   "outputs": [],
   "source": [
    "# 3)remove numbers\n",
    "#re.findall(r'\\d+', text)\n",
    "#text = re.sub(r'\\d+', ' ', text)\n",
    "df1['final'] = df1['final'].str.replace(r'\\d+', ' ')\n",
    "df1"
   ]
  },
  {
   "cell_type": "code",
   "execution_count": null,
   "metadata": {
    "scrolled": true
   },
   "outputs": [],
   "source": [
    "# 4) remove single letters\n",
    "#re.findall(r'(^[a-z] +| +[a-z] +| +$[a-z])', text)\n",
    "#text =  re.sub(r'(^[a-z] +| +[a-z] +| +$[a-z])', ' ', text)\n",
    "#df['final'] = df['final'].str.replace(r'(^[a-z] +| +[a-z] +| +$[a-z])', ' ')\n",
    "#df1['final'] = df1['final'].str.replace(r'(^[a-z] +|^[a-z] [a-z] +| +[a-z] +| +[a-z] [a-z] +| +$[a-z]| +[a-z] +$[a-z])', ' ')\n",
    "#df1.iloc[1166]"
   ]
  },
  {
   "cell_type": "code",
   "execution_count": null,
   "metadata": {},
   "outputs": [],
   "source": [
    "def remove_letter(input):\n",
    "    return ' '.join([w for w in input.split() if len(w)>1])"
   ]
  },
  {
   "cell_type": "code",
   "execution_count": null,
   "metadata": {},
   "outputs": [],
   "source": [
    "df1['final'] = df1['final'].map(remove_letter)"
   ]
  },
  {
   "cell_type": "code",
   "execution_count": null,
   "metadata": {},
   "outputs": [],
   "source": [
    "df1.iloc[1166]"
   ]
  },
  {
   "cell_type": "code",
   "execution_count": null,
   "metadata": {},
   "outputs": [],
   "source": [
    "# 5)remove extra space\n",
    "#text = re.sub(r' +', ' ', text)\n",
    "df1['final'] = df1['final'].str.replace(r'\\s+', ' ')\n",
    "df1"
   ]
  },
  {
   "cell_type": "code",
   "execution_count": null,
   "metadata": {
    "scrolled": true
   },
   "outputs": [],
   "source": [
    "# 6) strip space both ends\n",
    "#re.findall(r'(^ |$ )', text)\n",
    "#text = re.sub(r'(^ |$ )', '', text)\n",
    "df1['final'] = df1['final'].str.strip()\n",
    "df1"
   ]
  },
  {
   "cell_type": "code",
   "execution_count": null,
   "metadata": {},
   "outputs": [],
   "source": [
    "df = df1\n"
   ]
  },
  {
   "cell_type": "code",
   "execution_count": null,
   "metadata": {},
   "outputs": [],
   "source": [
    "fig = plt.figure(figsize=(5, 5))\n",
    "labels = 'Negative', 'Positive', 'Intermediate'\n",
    "sizes = [len(df[df['result']==0]), len(df[df['result']==1]), len(df[df['result']==2])]\n",
    "plt.pie(sizes, labels=labels, autopct='%1.1f%%', shadow=True, startangle=60)\n",
    "plt.show()"
   ]
  },
  {
   "cell_type": "code",
   "execution_count": null,
   "metadata": {},
   "outputs": [],
   "source": [
    "df.interpretation.value_counts()"
   ]
  },
  {
   "cell_type": "code",
   "execution_count": null,
   "metadata": {},
   "outputs": [],
   "source": []
  }
 ],
 "metadata": {
  "kernelspec": {
   "display_name": "Python 3",
   "language": "python",
   "name": "python3"
  },
  "language_info": {
   "codemirror_mode": {
    "name": "ipython",
    "version": 3
   },
   "file_extension": ".py",
   "mimetype": "text/x-python",
   "name": "python",
   "nbconvert_exporter": "python",
   "pygments_lexer": "ipython3",
   "version": "3.8.8"
  }
 },
 "nbformat": 4,
 "nbformat_minor": 4
}
