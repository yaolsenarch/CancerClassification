{
 "cells": [
  {
   "cell_type": "code",
   "execution_count": null,
   "id": "30392f50",
   "metadata": {},
   "outputs": [],
   "source": [
    "%run app_dataCleaning.ipynb"
   ]
  },
  {
   "cell_type": "code",
   "execution_count": null,
   "id": "98bde34a",
   "metadata": {},
   "outputs": [],
   "source": [
    "import lightgbm as lgb"
   ]
  },
  {
   "cell_type": "code",
   "execution_count": null,
   "id": "0120eff0",
   "metadata": {},
   "outputs": [],
   "source": [
    "import pyforest\n",
    "from nltk.stem import WordNetLemmatizer \n",
    "def lemma(text):\n",
    "    tokens = nltk.word_tokenize(text)\n",
    "    lemmatizer = WordNetLemmatizer()\n",
    "    lemmatized = [lemmatizer.lemmatize(w,'v') for w in tokens]\n",
    "    return lemmatized\n",
    "\n",
    "tfidf=TfidfVectorizer(tokenizer= lemma, min_df=3, lowercase = True, ngram_range=(1,2), stop_words='english')\n",
    "features = tfidf.fit_transform(df.comment).toarray()\n",
    "labels = df.result\n",
    "features.shape"
   ]
  },
  {
   "cell_type": "code",
   "execution_count": null,
   "id": "75a33016",
   "metadata": {
    "scrolled": true
   },
   "outputs": [],
   "source": [
    "labels.unique()"
   ]
  },
  {
   "cell_type": "code",
   "execution_count": null,
   "id": "2a7a8bfd",
   "metadata": {},
   "outputs": [],
   "source": [
    "lablels = labels.replace({1:0, 2:1, 3:2}, inplace=True)"
   ]
  },
  {
   "cell_type": "code",
   "execution_count": null,
   "id": "1523bd7a",
   "metadata": {},
   "outputs": [],
   "source": [
    "_, _, _, _, indices_train, indices_test = train_test_split(features, labels, df.index, test_size=0.20, random_state=0)"
   ]
  },
  {
   "cell_type": "code",
   "execution_count": null,
   "id": "ca93c626",
   "metadata": {},
   "outputs": [],
   "source": [
    "indices_test"
   ]
  },
  {
   "cell_type": "code",
   "execution_count": null,
   "id": "9bc8b401",
   "metadata": {},
   "outputs": [],
   "source": [
    "X_train, X_valid, y_train, y_valid = train_test_split(features, labels, test_size=0.20, random_state=0)"
   ]
  },
  {
   "cell_type": "code",
   "execution_count": null,
   "id": "f067f0bb",
   "metadata": {},
   "outputs": [],
   "source": [
    "print(np.unique(np.array(y_valid)))\n",
    "print(np.unique(np.array(y_train)))\n",
    "print(np.unique(np.array(labels)))\n",
    "print(len(np.array(y_valid)))\n",
    "print(len(np.array(X_train)))"
   ]
  },
  {
   "cell_type": "code",
   "execution_count": null,
   "id": "e7fc78d4",
   "metadata": {},
   "outputs": [],
   "source": [
    "train_data = lgb.Dataset(X_train, label=y_train)\n",
    "valid_data = lgb.Dataset(X_valid, label=y_valid, reference=train_data)"
   ]
  },
  {
   "cell_type": "code",
   "execution_count": null,
   "id": "60c35651",
   "metadata": {},
   "outputs": [],
   "source": [
    "#SEARCH_PARAMS = {'learning_rate': 0.4,\n",
    "#                'max_depth': 15,\n",
    "#                'num_leaves': 32,\n",
    "#                'feature_fraction': 0.8,\n",
    "#                'subsample': 0.2\n",
    "#                }\n",
    "SEARCH_PARAMS = {'learning_rate': 0.4,\n",
    "                 'max_depth': 15,\n",
    "                 'num_leaves': 20,\n",
    "                 'feature_fraction': 0.8,\n",
    "                 'subsample': 0.2\n",
    "                }\n",
    "\n",
    "FIXED_PARAMS={'objective': 'multiclass',\n",
    "             'metric': 'auc_mu',\n",
    "            # 'metric': 'None',\n",
    "             'num_class': 3 ,\n",
    "             'is_unbalance':True,\n",
    "             'bagging_freq':5,\n",
    "             'boosting':'dart',\n",
    "             'num_boost_round':300,\n",
    "             'early_stopping_rounds':30}\n",
    "\n",
    "params = {'metric':FIXED_PARAMS['metric'],\n",
    "          'num_class':FIXED_PARAMS['num_class'],\n",
    "          'objective':FIXED_PARAMS['objective'],          \n",
    "          **SEARCH_PARAMS}\n"
   ]
  },
  {
   "cell_type": "code",
   "execution_count": null,
   "id": "6a367d16",
   "metadata": {},
   "outputs": [],
   "source": [
    "evals_result = {}\n",
    "model = lgb.train(params, train_data,                     \n",
    "                     valid_sets=[valid_data, train_data],\n",
    "                     num_boost_round=FIXED_PARAMS['num_boost_round'],\n",
    "                     early_stopping_rounds=FIXED_PARAMS['early_stopping_rounds'],\n",
    "                     valid_names=['valid', 'train'], evals_result=evals_result)"
   ]
  },
  {
   "cell_type": "code",
   "execution_count": null,
   "id": "5c33e4e0",
   "metadata": {},
   "outputs": [],
   "source": [
    "score = model.best_score#['valid']#['auc_mu']\n",
    "score"
   ]
  },
  {
   "cell_type": "code",
   "execution_count": null,
   "id": "bfcb7bc5",
   "metadata": {},
   "outputs": [],
   "source": [
    "lgb.plot_metric(evals_result, metric='auc_mu') "
   ]
  },
  {
   "cell_type": "code",
   "execution_count": null,
   "id": "87570693",
   "metadata": {},
   "outputs": [],
   "source": [
    "len(train_data.get_label())"
   ]
  },
  {
   "cell_type": "code",
   "execution_count": null,
   "id": "2e14be54",
   "metadata": {},
   "outputs": [],
   "source": [
    "from sklearn.metrics import f1_score\n",
    "\n",
    "def lgb_f1_score(y_hat, data):\n",
    "    y_true = data.get_label()\n",
    "    y_hat = y_hat.reshape(3, -1).T\n",
    "    y_hat = y_hat.argmax(axis=1)\n",
    "    return 'f1_macro', f1_score(y_true, y_hat, average='macro'), True\n",
    "\n",
    "evals_result = {}\n",
    "\n",
    "clf = lgb.train(params, train_data, valid_sets=[valid_data, train_data], valid_names=['valid', 'train'], feval=lgb_f1_score, evals_result=evals_result)\n",
    "\n",
    "lgb.plot_metric(evals_result, metric='f1_macro')"
   ]
  },
  {
   "cell_type": "code",
   "execution_count": null,
   "id": "4cd77956",
   "metadata": {},
   "outputs": [],
   "source": [
    "lgb_pred = clf.predict(X_valid)\n",
    "lgb_pred = lgb_pred.argmax(axis = 1)\n",
    "lgb_pred.shape\n",
    "lgb_pred\n",
    "lgb_F1 = f1_score(y_valid, lgb_pred, average = 'macro')\n",
    "lgb_F1"
   ]
  },
  {
   "cell_type": "code",
   "execution_count": null,
   "id": "ef04e266",
   "metadata": {
    "scrolled": true
   },
   "outputs": [],
   "source": [
    "from sklearn.metrics import confusion_matrix\n",
    "conf_mat = confusion_matrix(y_valid, lgb_pred)\n",
    "fig, ax = plt.subplots(figsize=(5,5))\n",
    "target_names = ['Negative', 'Positive', 'Intermediate']\n",
    "sns.heatmap(conf_mat, annot=True, fmt='d', cmap=plt.cm.Blues, xticklabels=target_names, yticklabels=target_names) #cmap=plt.cm.Blues,\n",
    "plt.ylabel('Actual')\n",
    "plt.xlabel('Predicted')\n",
    "plt.show()"
   ]
  },
  {
   "cell_type": "code",
   "execution_count": null,
   "id": "eec21b54",
   "metadata": {},
   "outputs": [],
   "source": [
    "np.array(y_valid)"
   ]
  },
  {
   "cell_type": "code",
   "execution_count": null,
   "id": "3e849742",
   "metadata": {},
   "outputs": [],
   "source": [
    "lgb_pred"
   ]
  },
  {
   "cell_type": "markdown",
   "id": "f4c51a5a",
   "metadata": {},
   "source": [
    "## Try out skopt.BayesSearchCV"
   ]
  },
  {
   "cell_type": "code",
   "execution_count": null,
   "id": "243f8f58",
   "metadata": {},
   "outputs": [],
   "source": [
    "import skopt\n",
    "from sklearn.metrics import f1_score\n",
    "from skopt.space import Real, Categorical, Integer\n",
    "import lightgbm as lgb\n",
    "#patch below to solve TypeError: __init__() got an unexpected keyword argument 'iid'\n",
    "def bayes_search_CV_init(self, estimator, search_spaces, optimizer_kwargs=None,\n",
    "                         n_iter=50, scoring=None, fit_params=None, n_jobs=1,\n",
    "                         n_points=1, iid=True, refit=True, cv=None, verbose=0,\n",
    "                         pre_dispatch='2*n_jobs', random_state=None,\n",
    "                         error_score='raise', return_train_score=False):\n",
    "\n",
    "        self.search_spaces = search_spaces\n",
    "        self.n_iter = n_iter\n",
    "        self.n_points = n_points\n",
    "        self.random_state = random_state\n",
    "        self.optimizer_kwargs = optimizer_kwargs\n",
    "        self._check_search_space(self.search_spaces)\n",
    "        self.fit_params = fit_params\n",
    "\n",
    "        super(skopt.BayesSearchCV, self).__init__(\n",
    "             estimator=estimator, scoring=scoring,\n",
    "             n_jobs=n_jobs, refit=refit, cv=cv, verbose=verbose,\n",
    "             pre_dispatch=pre_dispatch, error_score=error_score,\n",
    "             return_train_score=return_train_score)\n",
    "        \n",
    "skopt.BayesSearchCV.__init__ = bayes_search_CV_init"
   ]
  },
  {
   "cell_type": "code",
   "execution_count": null,
   "id": "1b56f03a",
   "metadata": {},
   "outputs": [],
   "source": [
    "SEARCH_PARAMS = {'learning_rate': 0.4,\n",
    "                 'max_depth': 15, \n",
    "                 'num_iterations': 100,\n",
    "                 'early_stopping_round': 30,\n",
    "                 'num_leaves': 20,                 \n",
    "                 'min_data_in_leaf':5,\n",
    "                 'min_sum_hessian_in_leaf': 0.001,\n",
    "                 'scale_pos_weight': 0.1,\n",
    "                 'feature_fraction': 0.8,\n",
    "                 'subsample': 0.2\n",
    "                } "
   ]
  },
  {
   "cell_type": "code",
   "execution_count": null,
   "id": "e496eb93",
   "metadata": {},
   "outputs": [],
   "source": [
    "\n",
    "SPACE = [\n",
    "    skopt.space.Real(0.01, 0.5, name='learning_rate', prior='log-uniform'),\n",
    "    skopt.space.Integer(1, 30, name='max_depth'),\n",
    "    skopt.space.Integer(50, 200, name='num_iterations'),\n",
    "    skopt.space.Integer(20, 100, name='early_stopping_round'),\n",
    "    skopt.space.Integer(15, 1000, name='num_leaves'), \n",
    "    skopt.space.Integer(20, 200, name='min_data_in_leaf'),\n",
    "    skopt.space.Real(0.0001, 0.005, name='min_sum_hessian_in_leaf', prior='uniform'), \n",
    "    skopt.space.Real(0.1, 10, name='scale_pos_weight', prior='uniform'),\n",
    "    skopt.space.Real(0.1, 1.0, name='feature_fraction', prior='uniform'),    \n",
    "    skopt.space.Real(0.1, 1.0, name='subsample', prior='uniform')]"
   ]
  },
  {
   "cell_type": "code",
   "execution_count": null,
   "id": "aa059042",
   "metadata": {},
   "outputs": [],
   "source": [
    "def lgb_f1_score(y_hat, data):\n",
    "    y_true = data.get_label()\n",
    "    y_hat = y_hat.reshape(3, -1).T\n",
    "    y_hat = y_hat.argmax(axis=1)\n",
    "    return 'f1_macro', f1_score(y_true, y_hat, average='macro'), True\n",
    "\n",
    "train_data = lgb.Dataset(X_train, label=y_train)\n",
    "valid_data = lgb.Dataset(X_valid, label=y_valid, reference=train_data)\n",
    "def cv_evaluate(search_params):     \n",
    "    params = {'metric':'None',\n",
    "              'num_class':3,\n",
    "              'objective': 'multiclass', \n",
    "              'force_col_wise': True,\n",
    "              **search_params}  \n",
    "    cv_dict = lgb.cv(params, train_data, nfold= 5, feval=lgb_f1_score)\n",
    "    return max(cv_dict['f1_macro-mean'])\n",
    " \n",
    "score = cv_evaluate(SEARCH_PARAMS)\n",
    "score\n"
   ]
  },
  {
   "cell_type": "code",
   "execution_count": null,
   "id": "f40f27d4",
   "metadata": {},
   "outputs": [],
   "source": [
    "@skopt.utils.use_named_args(SPACE)\n",
    "def objective(**params):\n",
    "    return -1.0 * cv_evaluate(params)"
   ]
  },
  {
   "cell_type": "code",
   "execution_count": null,
   "id": "e38f8845",
   "metadata": {
    "scrolled": true
   },
   "outputs": [],
   "source": [
    "results = skopt.forest_minimize(objective, SPACE, n_calls=30, n_random_starts=10, random_state=0)\n",
    "best_cv_f1 = -1.0 * results.fun\n",
    "best_params_cv = results.x\n",
    "\n",
    "print('best result: ', best_cv_f1)\n",
    "print('best parameters: ', best_params_cv)"
   ]
  },
  {
   "cell_type": "code",
   "execution_count": null,
   "id": "5a7b68fa",
   "metadata": {},
   "outputs": [],
   "source": [
    "#final_params_cv['num_iterations'] = best_params_cv[2]\n",
    "#final_params_cv['early_stopping_round'] = best_params_cv[3]\n",
    "#final_params_cv['min_data_in_leaf'] = best_params_cv[5]\n",
    "\n",
    "final_params_cv = {'metric':'None',\n",
    "                   'num_class':3,\n",
    "                   'objective': 'multiclass',\n",
    "                   'force_col_wise': True,\n",
    "         \n",
    "          } \n",
    "final_params_cv['learning_rate'] = best_params_cv[0]\n",
    "final_params_cv['max_depth'] = best_params_cv[1]\n",
    "final_params_cv['num_iterations'] = best_params_cv[2]\n",
    "final_params_cv['early_stopping_round'] = best_params_cv[3]\n",
    "final_params_cv['num_leaves'] = best_params_cv[4]\n",
    "final_params_cv['min_data_in_leaf'] = best_params_cv[5]\n",
    "final_params_cv['min_sum_hessian_in_leaf'] = best_params_cv[6]\n",
    "final_params_cv['scale_pos_weight'] = best_params_cv[7]\n",
    "final_params_cv['feature_fraction'] = best_params_cv[8]\n",
    "final_params_cv['subsample'] = best_params_cv[9] "
   ]
  },
  {
   "cell_type": "code",
   "execution_count": null,
   "id": "c6712ae1",
   "metadata": {
    "scrolled": true
   },
   "outputs": [],
   "source": [
    "final_params_cv"
   ]
  },
  {
   "cell_type": "code",
   "execution_count": null,
   "id": "0a929c0f",
   "metadata": {},
   "outputs": [],
   "source": [
    "evals_result = {}\n",
    "\n",
    "clf_cv = lgb.train(final_params_cv, train_data, valid_sets=[valid_data, train_data], valid_names=['valid', 'train'], feval=lgb_f1_score, evals_result=evals_result)\n",
    "\n",
    "lgb.plot_metric(evals_result, metric='f1_macro')"
   ]
  },
  {
   "cell_type": "code",
   "execution_count": null,
   "id": "1c0a3438",
   "metadata": {},
   "outputs": [],
   "source": [
    "lgb.plot_metric(evals_result, metric='f1')"
   ]
  },
  {
   "cell_type": "code",
   "execution_count": null,
   "id": "5588a761",
   "metadata": {},
   "outputs": [],
   "source": [
    "print(np.unique(np.array(y_valid)))\n",
    "print(np.unique(np.array(y_train)))\n",
    "print(np.unique(np.array(labels)))\n",
    "print(len(np.array(y_valid)))\n",
    "print(len(np.array(y_train)))"
   ]
  },
  {
   "cell_type": "code",
   "execution_count": null,
   "id": "b36bfb43",
   "metadata": {},
   "outputs": [],
   "source": [
    "lgb_pred_cv = clf_cv.predict(X_valid)\n",
    "lgb_pred_cv = lgb_pred_cv.argmax(axis = 1)\n",
    "lgb_pred_cv.shape\n",
    "lgb_F1_cv = f1_score(y_valid, list(lgb_pred_cv), average = 'macro')\n",
    "lgb_F1_cv"
   ]
  },
  {
   "cell_type": "code",
   "execution_count": null,
   "id": "78e0bef4",
   "metadata": {},
   "outputs": [],
   "source": [
    "from sklearn.metrics import confusion_matrix\n",
    "conf_mat = confusion_matrix(np.array(y_valid), lgb_pred_cv)\n",
    "fig, ax = plt.subplots(figsize=(5,5))\n",
    "target_names = ['Negative', 'Positive', 'Intermediate']\n",
    "sns.heatmap(conf_mat, annot=True, fmt='d', cmap=plt.cm.Blues, xticklabels=target_names, yticklabels=target_names) #cmap=plt.cm.Blues,\n",
    "plt.ylabel('Actual')\n",
    "plt.xlabel('Predicted')\n",
    "plt.show()\n"
   ]
  },
  {
   "cell_type": "markdown",
   "id": "a94056fc",
   "metadata": {},
   "source": [
    "## Tuning parameters with skopt using lgb.train"
   ]
  },
  {
   "cell_type": "code",
   "execution_count": null,
   "id": "001d22b9",
   "metadata": {},
   "outputs": [],
   "source": [
    "import skopt"
   ]
  },
  {
   "cell_type": "code",
   "execution_count": null,
   "id": "b5176b17",
   "metadata": {},
   "outputs": [],
   "source": [
    "SEARCH_PARAMS = {'learning_rate': 0.4,\n",
    "                 'max_depth': 15,\n",
    "                 'max_bin':300,\n",
    "                 'num_leaves': 300,\n",
    "                 'min_sum_hessian_in_leaf': 0.001,\n",
    "                 'scale_pos_weight': 0.1,\n",
    "                 'feature_fraction': 0.8,\n",
    "                 'subsample': 0.2\n",
    "                } "
   ]
  },
  {
   "cell_type": "code",
   "execution_count": null,
   "id": "e74422e9",
   "metadata": {},
   "outputs": [],
   "source": [
    "'''SEARCH_PARAMS = {'learning_rate': 0.4,\n",
    "                 'max_depth': 15,\n",
    "                 'num_iterations': 20,\n",
    "                 'min_data_in_leaf':5,\n",
    "                 'min_sum_hessian_in_leaf': 0.001,\n",
    "                 'scale_pos_weight': 0.1\n",
    "                }'''"
   ]
  },
  {
   "cell_type": "code",
   "execution_count": null,
   "id": "89b8c3cb",
   "metadata": {},
   "outputs": [],
   "source": [
    "from sklearn.metrics import f1_score\n",
    "\n",
    "def lgb_f1_score(y_hat, data):\n",
    "        y_true = data.get_label()\n",
    "        y_hat = y_hat.reshape(3, -1).T\n",
    "        y_hat = y_hat.argmax(axis=1)\n",
    "        return 'f1', f1_score(y_true, y_hat, average='macro'), True\n",
    "    \n",
    "def train_evaluate(search_params):     \n",
    "    #X_train, X_valid, y_train, y_valid = train_test_split(X, y, test_size=0.2, random_state=1234)\n",
    "\n",
    "    train_data = lgb.Dataset(X_train, label=y_train)\n",
    "    valid_data = lgb.Dataset(X_valid, label=y_valid, reference=train_data)\n",
    "\n",
    "    params = {'metric':'None',\n",
    "              'num_class':3,\n",
    "              'objective': 'multiclass', \n",
    "              'force_col_wise': True, \n",
    "              **search_params}  \n",
    "   \n",
    "    evals_result = {}\n",
    "    \n",
    "    model = lgb.train(params, train_data, \n",
    "                      valid_sets=[valid_data, train_data], \n",
    "                      valid_names=['valid', 'train'], \n",
    "                      num_boost_round=300,\n",
    "                      early_stopping_rounds=30,\n",
    "                      feval=lgb_f1_score, evals_result=evals_result)\n",
    "    score = model.best_score['valid']['f1']\n",
    "    return score"
   ]
  },
  {
   "cell_type": "code",
   "execution_count": null,
   "id": "ca1c553a",
   "metadata": {},
   "outputs": [],
   "source": [
    "score = train_evaluate(SEARCH_PARAMS)\n"
   ]
  },
  {
   "cell_type": "code",
   "execution_count": null,
   "id": "3bec86d7",
   "metadata": {},
   "outputs": [],
   "source": [
    "'''SPACE = [\n",
    "    skopt.space.Real(0.01, 0.5, name='learning_rate', prior='log-uniform'),\n",
    "    skopt.space.Integer(1, 45, name='max_depth'),\n",
    "    skopt.space.Integer(25, 1500, name='num_iterations'),\n",
    "    skopt.space.Integer(5, 30, name='min_data_in_leaf'),\n",
    "    skopt.space.Real(0.0001, 0.005, name='min_sum_hessian_in_leaf', prior='uniform'),\n",
    "    skopt.space.Real(0.1, 10, name='scale_pos_weight', prior='uniform')]\n",
    " '''"
   ]
  },
  {
   "cell_type": "code",
   "execution_count": null,
   "id": "479692c9",
   "metadata": {},
   "outputs": [],
   "source": [
    "SPACE = [\n",
    "    skopt.space.Real(0.01, 0.5, name='learning_rate', prior='log-uniform'),\n",
    "    skopt.space.Integer(1, 30, name='max_depth'),\n",
    "    skopt.space.Integer(300, 1000, name='max_bin'),\n",
    "    skopt.space.Integer(500, 1000, name='num_leaves'),\n",
    "    skopt.space.Real(0.0001, 0.005, name='min_sum_hessian_in_leaf', prior='uniform'), \n",
    "    skopt.space.Real(0.1, 10, name='scale_pos_weight', prior='uniform'),\n",
    "    skopt.space.Real(0.1, 1.0, name='feature_fraction', prior='uniform'),    \n",
    "    skopt.space.Real(0.1, 1.0, name='subsample', prior='uniform')]"
   ]
  },
  {
   "cell_type": "code",
   "execution_count": null,
   "id": "81fb583d",
   "metadata": {},
   "outputs": [],
   "source": [
    "@skopt.utils.use_named_args(SPACE)\n",
    "def objective(**params):\n",
    "    return -1.0 * train_evaluate(params)"
   ]
  },
  {
   "cell_type": "code",
   "execution_count": null,
   "id": "37861773",
   "metadata": {},
   "outputs": [],
   "source": [
    "results = skopt.forest_minimize(objective, SPACE, n_calls=30, n_random_starts=10)#, random_state= 0)\n",
    "best_auc = -1.0 * results.fun\n",
    "best_params = results.x\n",
    "\n",
    "print('best result: ', best_auc)\n",
    "print('best parameters: ', best_params)"
   ]
  },
  {
   "cell_type": "code",
   "execution_count": null,
   "id": "0bb23e93",
   "metadata": {},
   "outputs": [],
   "source": [
    "final_params = {'metric':'None',\n",
    "                'num_class':3,\n",
    "                'objective': 'multiclass',\n",
    "                'force_col_wise': True, \n",
    "          }  "
   ]
  },
  {
   "cell_type": "code",
   "execution_count": null,
   "id": "0b93515e",
   "metadata": {},
   "outputs": [],
   "source": [
    "final_params['learning_rate'] = best_params[0]\n",
    "final_params['max_depth'] = best_params[1]\n",
    "#final_params['max_bin'] = best_params[2]\n",
    "final_params['num_leaves'] = best_params[3]\n",
    "final_params['min_sum_hessian_in_leaf'] = best_params[4]\n",
    "final_params['scale_pos_weight'] = best_params[5]\n",
    "final_params['feature_fraction'] = best_params[6]\n",
    "final_params['subsample'] = best_params[7] "
   ]
  },
  {
   "cell_type": "code",
   "execution_count": null,
   "id": "ff025406",
   "metadata": {},
   "outputs": [],
   "source": [
    "'''final_params['learning_rate'] = best_params[0]\n",
    "final_params['max_depth'] = best_params[1]\n",
    "final_params['num_iterations'] = best_params[2]\n",
    "final_params['min_data_in_leaf'] = best_params[3]\n",
    "final_params['min_sum_hessian_in_leaf'] = best_params[4]\n",
    "final_params['scale_pos_weight'] = best_params[5]'''"
   ]
  },
  {
   "cell_type": "code",
   "execution_count": null,
   "id": "1dd90db0",
   "metadata": {},
   "outputs": [],
   "source": [
    "\n",
    "final_params"
   ]
  },
  {
   "cell_type": "code",
   "execution_count": null,
   "id": "a9039a1e",
   "metadata": {},
   "outputs": [],
   "source": [
    "evals_result = {}\n",
    "\n",
    "clf = lgb.train(final_params, train_data, valid_sets=[valid_data, train_data], valid_names=['valid', 'train'], feval=lgb_f1_score, evals_result=evals_result)\n",
    "\n",
    "lgb.plot_metric(evals_result, metric='f1')"
   ]
  },
  {
   "cell_type": "code",
   "execution_count": null,
   "id": "40c4c4b4",
   "metadata": {},
   "outputs": [],
   "source": [
    "lgb_pred = clf.predict(X_valid)\n",
    "lgb_pred = lgb_pred.argmax(axis = 1)\n",
    "lgb_pred.shape\n",
    "lgb_pred\n",
    "lgb_F1 = f1_score(y_valid, lgb_pred, average = 'macro')\n",
    "lgb_F1"
   ]
  },
  {
   "cell_type": "code",
   "execution_count": null,
   "id": "89ed570b",
   "metadata": {},
   "outputs": [],
   "source": [
    "from sklearn.metrics import confusion_matrix\n",
    "conf_mat = confusion_matrix(y_valid, lgb_pred)\n",
    "fig, ax = plt.subplots(figsize=(5,5))\n",
    "target_names = ['Negative', 'Positive', 'Intermediate']\n",
    "sns.heatmap(conf_mat, annot=True, fmt='d', cmap=plt.cm.Blues, xticklabels=target_names, yticklabels=target_names) #cmap=plt.cm.Blues,\n",
    "plt.ylabel('Actual')\n",
    "plt.xlabel('Predicted')\n",
    "plt.show()"
   ]
  },
  {
   "cell_type": "code",
   "execution_count": null,
   "id": "ff3bfb9e",
   "metadata": {},
   "outputs": [],
   "source": []
  }
 ],
 "metadata": {
  "kernelspec": {
   "display_name": "Python 3",
   "language": "python",
   "name": "python3"
  },
  "language_info": {
   "codemirror_mode": {
    "name": "ipython",
    "version": 3
   },
   "file_extension": ".py",
   "mimetype": "text/x-python",
   "name": "python",
   "nbconvert_exporter": "python",
   "pygments_lexer": "ipython3",
   "version": "3.8.8"
  }
 },
 "nbformat": 4,
 "nbformat_minor": 5
}
